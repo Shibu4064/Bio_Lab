{
  "nbformat": 4,
  "nbformat_minor": 0,
  "metadata": {
    "colab": {
      "provenance": [],
      "authorship_tag": "ABX9TyOP0MbAXafR96Q7hmQ4Rc6M",
      "include_colab_link": true
    },
    "kernelspec": {
      "name": "python3",
      "display_name": "Python 3"
    },
    "language_info": {
      "name": "python"
    }
  },
  "cells": [
    {
      "cell_type": "markdown",
      "metadata": {
        "id": "view-in-github",
        "colab_type": "text"
      },
      "source": [
        "<a href=\"https://colab.research.google.com/github/Shibu4064/Bio_Lab/blob/main/CHAPTER%202%20CODES.ipynb\" target=\"_parent\"><img src=\"https://colab.research.google.com/assets/colab-badge.svg\" alt=\"Open In Colab\"/></a>"
      ]
    },
    {
      "cell_type": "markdown",
      "source": [
        "BA2A: Implement MotifEnumeration"
      ],
      "metadata": {
        "id": "CyKDMjdooQES"
      }
    },
    {
      "cell_type": "code",
      "execution_count": 2,
      "metadata": {
        "colab": {
          "base_uri": "https://localhost:8080/"
        },
        "id": "k1N6Ces9oOBc",
        "outputId": "59c673c1-0ee0-48c4-a8fb-eb7ab13a201c"
      },
      "outputs": [
        {
          "output_type": "stream",
          "name": "stdout",
          "text": [
            "GCCTA\n",
            "GCCTC\n",
            "GCCTT\n",
            "GCCTG\n"
          ]
        }
      ],
      "source": [
        "def neighbour(pattern, mismatch, words):\n",
        "    if mismatch == 0:\n",
        "        words.add(pattern)\n",
        "    else:\n",
        "        bases = ['A', 'T', 'C', 'G']\n",
        "        for i in range(len(pattern)):\n",
        "            for j in range(len(bases)):\n",
        "                new_pattern = pattern[:i] + bases[j] + pattern[i+1:]\n",
        "                if mismatch <= 1:\n",
        "                    words.add(new_pattern)\n",
        "                else:\n",
        "                    neighbour(new_pattern, mismatch-1, words)\n",
        "\n",
        "def MotifEnumeration(dna, k, d):\n",
        "    patterns = []\n",
        "    for n in range(len(dna)):\n",
        "        pattern = set()\n",
        "        for i in range(len(dna[n]) - k + 1):\n",
        "            kmerspattern = set()\n",
        "            neighbour(dna[n][i:i + k], d, kmerspattern)\n",
        "            for words in kmerspattern:\n",
        "                pattern.add(words)\n",
        "        for j in pattern:\n",
        "            patterns.append(j)\n",
        "    motifpattern = []\n",
        "    for element in patterns:\n",
        "        if patterns.count(element) == len(dna):\n",
        "            motifpattern.append(element)\n",
        "    motifpattern = list(set(motifpattern))\n",
        "    return motifpattern\n",
        "\n",
        "if __name__ == \"__main__\":\n",
        "    # k, d = 3, 1\n",
        "    # dna = ['ATTTGGC',\n",
        "    #        'TGCCTTA',\n",
        "    #        'CGGTATC',\n",
        "    #        'GAAAATT']\n",
        "    with open(\"/content/rosalind_ba2a.txt\", \"r\") as f:\n",
        "        k, d = map(int, f.readline().strip().split())\n",
        "        dna = [line.strip() for line in f]\n",
        "    result = MotifEnumeration(dna, k, d)\n",
        "    for i in result:\n",
        "        print(i)"
      ]
    },
    {
      "cell_type": "markdown",
      "source": [
        "BA2B: Find a Median String"
      ],
      "metadata": {
        "id": "GwU62tDIqQmq"
      }
    },
    {
      "cell_type": "code",
      "source": [
        "from itertools import product\n",
        "\n",
        "def pattern_generate(k):\n",
        "  bases = ['A', 'C', 'G', 'T']\n",
        "  results = []\n",
        "  for c in product(bases, repeat=k):\n",
        "    word = ''.join(c)\n",
        "    results.append(word)\n",
        "  return results\n",
        "\n",
        "def min_hamming_distance(pattern, string):\n",
        "    min_distance = len(pattern)\n",
        "    for i in range(len(string) - len(pattern) + 1):\n",
        "        distance = sum([1 for j in range(len(pattern)) if pattern[j] != string[i:i+len(pattern)][j]])\n",
        "        if distance < min_distance:\n",
        "            min_distance = distance\n",
        "    return min_distance\n",
        "\n",
        "\n",
        "def find_median_string(k, dna):\n",
        "    pattern = pattern_generate(k)\n",
        "    distance_from_pattern = {}\n",
        "    min_dist = len(dna) * len(pattern)\n",
        "    for i in pattern:\n",
        "        sum_dist = 0\n",
        "        for j in range(len(dna)):\n",
        "            sum_dist += min_hamming_distance(i, dna[j])\n",
        "        distance_from_pattern[i] = sum_dist\n",
        "        min_dist = min(sum_dist, min_dist)\n",
        "    for i in distance_from_pattern.keys():\n",
        "        if distance_from_pattern[i] == min_dist:\n",
        "            print(i)\n",
        "            break\n",
        "\n",
        "if __name__ == \"__main__\":\n",
        "    # k = 3\n",
        "    # dna=['AAATTGACGCAT',\n",
        "    #     'GACGACCACGTT',\n",
        "    #     'CGTCAGCGCCTG',\n",
        "    #     'GCTGAGCACCGG',\n",
        "    #     'AGTACGGGACAG']\n",
        "    with open(\"/content/rosalind_ba2b.txt\", \"r\") as f:\n",
        "        k = int(f.readline().strip())\n",
        "        dna = [line.strip() for line in f]\n",
        "    find_median_string(k, dna)"
      ],
      "metadata": {
        "colab": {
          "base_uri": "https://localhost:8080/"
        },
        "id": "olaQuGSlqbGa",
        "outputId": "94c4ffae-10a3-4d84-db5f-e2d3b24ae25f"
      },
      "execution_count": 4,
      "outputs": [
        {
          "output_type": "stream",
          "name": "stdout",
          "text": [
            "CACCAT\n"
          ]
        }
      ]
    },
    {
      "cell_type": "markdown",
      "source": [
        "BA2C: Find a Profile-most Probable k-mer in a String"
      ],
      "metadata": {
        "id": "oSMPzeNprEz0"
      }
    },
    {
      "cell_type": "code",
      "source": [
        "def probability_of_kmer(string, matrix):\n",
        "    probability = 1.0\n",
        "    for i in range(len(string)):\n",
        "        if string[i] == 'A':\n",
        "            probability *= matrix[0][i]\n",
        "        elif string[i] == 'C':\n",
        "            probability *= matrix[1][i]\n",
        "        elif string[i] == 'G':\n",
        "            probability *= matrix[2][i]\n",
        "        elif string[i] == 'T':\n",
        "            probability *= matrix[3][i]\n",
        "    return probability\n",
        "\n",
        "def profile_most_probable_kmer(string, k, matrix):\n",
        "    kmer_probability = {}\n",
        "    for i in range(len(string)-k+1):\n",
        "        kmer_probability[string[i:i+k]] = probability_of_kmer(string[i:i+k], matrix)\n",
        "    max_key = max(kmer_probability, key=kmer_probability.get)\n",
        "    return max_key\n",
        "\n",
        "if __name__ == \"__main__\":\n",
        "    # string = 'ACCTGTTTATTGCCTAAGTTCCGAACAAACCCAATATAGCCCGAGGGCCT'\n",
        "    # k = 5\n",
        "    # matrix = [[0.2, 0.2, 0.3, 0.2, 0.3], [0.4, 0.3, 0.1, 0.5, 0.1], [0.3, 0.3, 0.5, 0.2, 0.4], [0.1, 0.2, 0.1, 0.1, 0.2]]\n",
        "    with open(\"/content/rosalind_ba2c.txt\", \"r\") as f:\n",
        "        string = f.readline().strip()\n",
        "        k = int(f.readline().strip())\n",
        "        matrix =[[float(l) for l in line.strip().split()] for line in f]\n",
        "    print(profile_most_probable_kmer(string, k, matrix))"
      ],
      "metadata": {
        "colab": {
          "base_uri": "https://localhost:8080/"
        },
        "id": "Y-XD4ujRq-PV",
        "outputId": "f389d309-d149-4766-b22a-a6d3d92928bf"
      },
      "execution_count": 5,
      "outputs": [
        {
          "output_type": "stream",
          "name": "stdout",
          "text": [
            "GAGAGA\n"
          ]
        }
      ]
    },
    {
      "cell_type": "markdown",
      "source": [
        "BA2D: Implement GreedyMotifSearch"
      ],
      "metadata": {
        "id": "ORhsn8CPrqfN"
      }
    },
    {
      "cell_type": "code",
      "source": [
        "def probability_of_kmer(string, matrix):\n",
        "    probability = 1.0\n",
        "    for i in range(len(string)):\n",
        "        if string[i] == 'A':\n",
        "            probability *= matrix[0][i]\n",
        "        elif string[i] == 'C':\n",
        "            probability *= matrix[1][i]\n",
        "        elif string[i] == 'G':\n",
        "            probability *= matrix[2][i]\n",
        "        elif string[i] == 'T':\n",
        "            probability *= matrix[3][i]\n",
        "    return probability\n",
        "\n",
        "def profile_most_probable_kmer(string, k, matrix):\n",
        "    kmer_probability = {}\n",
        "    for i in range(len(string)-k+1):\n",
        "        kmer_probability[string[i:i+k]] = probability_of_kmer(string[i:i+k], matrix)\n",
        "    max_key = max(kmer_probability, key=kmer_probability.get)\n",
        "    return max_key\n",
        "\n",
        "def score(Motifs):\n",
        "    count_score = 0\n",
        "    for i in range(len(Motifs[0])):\n",
        "        j = [motif[i] for motif in Motifs]\n",
        "        count_score += (len(j) - max(j.count(\"A\"), j.count(\"C\"), j.count(\"T\"), j.count(\"G\")))\n",
        "    return count_score\n",
        "\n",
        "def greedy_motif_search(Dna, k, t):\n",
        "    BestMotifs = [dna[:k] for dna in Dna]\n",
        "    for k_mer in [Dna[0][i:i+k] for i in range(len(Dna[0])-k+1)]:\n",
        "        Motifs = [k_mer]\n",
        "        for i in range(1, t):\n",
        "            motifs = Motifs[:i]\n",
        "            matrix = []\n",
        "            for base in [\"A\", \"C\", \"G\", \"T\"]:\n",
        "                row = []\n",
        "                for j in range(k):\n",
        "                    col = [x[j] for x in motifs]\n",
        "                    #print(col)\n",
        "                    row.append(col.count(base)/len(motifs))\n",
        "                matrix.append(row)\n",
        "            Motifs.append(profile_most_probable_kmer(Dna[i], k, matrix))\n",
        "        if score(Motifs) < score(BestMotifs):\n",
        "            BestMotifs = Motifs\n",
        "    return BestMotifs\n",
        "\n",
        "if __name__ == \"__main__\":\n",
        "    # k, t = 3, 5\n",
        "    # Dna = ['GGCGTTCAGGCA',\n",
        "    #         'AAGAATCAGTCA',\n",
        "    #         'CAAGGAGTTCGC',\n",
        "    #         'CACGTCAATCAC',\n",
        "    #         'CAATAATATTCG']\n",
        "    with open(\"/content/rosalind_ba2d.txt\", \"r\") as f:\n",
        "        k, t = map(int, f.readline().strip().split())\n",
        "        Dna = [line.strip() for line in f]\n",
        "    BestMotifs = greedy_motif_search(Dna, k ,t)\n",
        "    print(\"\\n\".join(BestMotifs))"
      ],
      "metadata": {
        "colab": {
          "base_uri": "https://localhost:8080/"
        },
        "id": "UdOZjiNhrxOY",
        "outputId": "7d8d9a34-9f0b-4f74-d80c-4290a86cee3a"
      },
      "execution_count": 6,
      "outputs": [
        {
          "output_type": "stream",
          "name": "stdout",
          "text": [
            "GCAGGGGCTCTT\n",
            "TTGGCAACGGCG\n",
            "ATCACTAAAATT\n",
            "TTAGCAACTGCG\n",
            "GTGACGCCGTGC\n",
            "GGGTTATACGGA\n",
            "TTGGCAGCCCCG\n",
            "TTGGCAGCAACG\n",
            "TTCGCAACAACG\n",
            "TTCGCATCTCCG\n",
            "TTCGTATCTCCC\n",
            "GTAGCAACCTTG\n",
            "TTAGCAACCACG\n",
            "ATGGCAGAATTC\n",
            "TTCGCAACTACG\n",
            "TTGGCAGCAACG\n",
            "TTCGCAGCGACG\n",
            "GGGGCGAATATA\n",
            "GGCTCAGCGGTA\n",
            "TTAGCAACTCCG\n",
            "TTAGCAACGTCG\n",
            "TTAGCAACTCCG\n",
            "TTGGCATCTTCG\n",
            "GGGGGAGCTCCG\n",
            "TTGGCAGCGCCG\n"
          ]
        }
      ]
    },
    {
      "cell_type": "markdown",
      "source": [
        "BA2E: Implement GreedyMotifSearch with Pseudocounts"
      ],
      "metadata": {
        "id": "7R2GMa1isHSb"
      }
    },
    {
      "cell_type": "code",
      "source": [
        "def probability_of_kmer(string, matrix):\n",
        "    probability = 1.0\n",
        "    for i in range(len(string)):\n",
        "        if string[i] == 'A':\n",
        "            probability *= matrix[0][i]\n",
        "        elif string[i] == 'C':\n",
        "            probability *= matrix[1][i]\n",
        "        elif string[i] == 'G':\n",
        "            probability *= matrix[2][i]\n",
        "        elif string[i] == 'T':\n",
        "            probability *= matrix[3][i]\n",
        "    return probability\n",
        "\n",
        "def profile_most_probable_kmer(string, k, matrix):\n",
        "    kmer_probability = {}\n",
        "    for i in range(len(string)-k+1):\n",
        "        kmer_probability[string[i:i+k]] = probability_of_kmer(string[i:i+k], matrix)\n",
        "    max_key = max(kmer_probability, key=kmer_probability.get)\n",
        "    return max_key\n",
        "\n",
        "def score(Motifs):\n",
        "    count_score = 0\n",
        "    for i in range(len(Motifs[0])):\n",
        "        j = [motif[i] for motif in Motifs]\n",
        "        count_score += (len(j) - max(j.count(\"A\"), j.count(\"C\"), j.count(\"T\"), j.count(\"G\")))\n",
        "    return count_score\n",
        "\n",
        "def greedy_motif_search(Dna, k, t):\n",
        "    BestMotifs = [dna[:k] for dna in Dna]\n",
        "    for k_mer in [Dna[0][i:i+k] for i in range(len(Dna[0])-k+1)]:\n",
        "        Motifs = [k_mer]\n",
        "        for i in range(1, t):\n",
        "            motifs = Motifs[:i]\n",
        "            matrix = []\n",
        "            for base in [\"A\", \"C\", \"G\", \"T\"]:\n",
        "                row = []\n",
        "                for j in range(k):\n",
        "                    col = [x[j] for x in motifs]\n",
        "                    #print(col)\n",
        "                    row.append(col.count(base)+1/len(motifs)+4)\n",
        "                matrix.append(row)\n",
        "            Motifs.append(profile_most_probable_kmer(Dna[i], k, matrix))\n",
        "        if score(Motifs) < score(BestMotifs):\n",
        "            BestMotifs = Motifs\n",
        "    return BestMotifs\n",
        "\n",
        "if __name__ == \"__main__\":\n",
        "    # k, t = 3, 5\n",
        "    # Dna = ['GGCGTTCAGGCA',\n",
        "    #         'AAGAATCAGTCA',\n",
        "    #         'CAAGGAGTTCGC',\n",
        "    #         'CACGTCAATCAC',\n",
        "    #         'CAATAATATTCG']\n",
        "    with open(\"/content/rosalind_ba2e.txt\", \"r\") as f:\n",
        "        k, t = map(int, f.readline().strip().split())\n",
        "        Dna = [line.strip() for line in f]\n",
        "    BestMotifs = greedy_motif_search(Dna, k ,t)\n",
        "    print(\"\\n\".join(BestMotifs))"
      ],
      "metadata": {
        "colab": {
          "base_uri": "https://localhost:8080/"
        },
        "id": "M91uS8ousQQT",
        "outputId": "6c96e186-e983-4bc7-d881-9a8143946f69"
      },
      "execution_count": 8,
      "outputs": [
        {
          "output_type": "stream",
          "name": "stdout",
          "text": [
            "GTGCCAGTCCTA\n",
            "GAACTAGTCATA\n",
            "GGACAAGTCCTA\n",
            "GAGCCAGTCGTA\n",
            "GGTCGAGTCCTA\n",
            "GCCCCAGTCTTA\n",
            "GTGCTAGTCCTA\n",
            "GTGCCAGTCATA\n",
            "GACCTAGTCATA\n",
            "GTACTAGTCATA\n",
            "GTACCAGTCTTA\n",
            "GGACCAGTCTTA\n",
            "GATCTAGTCATA\n",
            "GTACCAGTCATA\n",
            "GAACTAGTCATA\n",
            "GATCAAGTCGTA\n",
            "GTCCGAGTCCTA\n",
            "GGCCGAGTCGTA\n",
            "GACCTAGTCTTA\n",
            "GGACAAGTCCTA\n",
            "GAGCCAGTCCTA\n",
            "GGACCAGTCTTA\n",
            "GTGCTAGTCGTA\n",
            "GCGCTAGTCCTA\n",
            "GATCCAGTCTTA\n"
          ]
        }
      ]
    },
    {
      "cell_type": "markdown",
      "source": [
        "BA2F: Implement RandomizedMotifSearch"
      ],
      "metadata": {
        "id": "yReboU6vs1fG"
      }
    },
    {
      "cell_type": "code",
      "source": [
        "import random\n",
        "\n",
        "def probability_of_kmer(string, matrix):\n",
        "    probability = 1.0\n",
        "    for i in range(len(string)):\n",
        "        if string[i] == 'A':\n",
        "            probability *= matrix[0][i]\n",
        "        elif string[i] == 'C':\n",
        "            probability *= matrix[1][i]\n",
        "        elif string[i] == 'G':\n",
        "            probability *= matrix[2][i]\n",
        "        elif string[i] == 'T':\n",
        "            probability *= matrix[3][i]\n",
        "    return probability\n",
        "\n",
        "def profile_most_probable_kmer(string, k, matrix):\n",
        "    kmer_probability = {}\n",
        "    for i in range(len(string)-k+1):\n",
        "        kmer_probability[string[i:i+k]] = probability_of_kmer(string[i:i+k], matrix)\n",
        "    max_key = max(kmer_probability, key=kmer_probability.get)\n",
        "    return max_key\n",
        "\n",
        "def get_score(Motifs):\n",
        "    count_score = 0\n",
        "    for i in range(len(Motifs[0])):\n",
        "        j = [motif[i] for motif in Motifs]\n",
        "        count_score += (len(j) - max(j.count(\"A\"), j.count(\"C\"), j.count(\"T\"), j.count(\"G\")))\n",
        "    return count_score\n",
        "\n",
        "def get_random_motifs(Dna, k, t):\n",
        "    motifs = []\n",
        "    kmer_index = [random.randint(0, len(Dna[0]) - k) for i in range(len(Dna))]\n",
        "    motifs = [Dna[i][j:j+k] for i, j in enumerate(kmer_index)]\n",
        "    return motifs\n",
        "\n",
        "def create_profile_with_pseudocounts(motifs):\n",
        "    matrix = []\n",
        "    for base in [\"A\", \"C\", \"G\", \"T\"]:\n",
        "        row = []\n",
        "        for j in range(len(motifs[0])):\n",
        "            col = [x[j] for x in motifs]\n",
        "            #print(col)\n",
        "            row.append(float(col.count(base) + 1) / float(len(motifs) + 4))\n",
        "        matrix.append(row)\n",
        "    #print(matrix)\n",
        "    return matrix\n",
        "\n",
        "def randomized_motif_search(Dna, k, t):\n",
        "    Motifs = get_random_motifs(Dna, k, t)\n",
        "    BestMotifs = Motifs\n",
        "    BestScore = get_score(BestMotifs)\n",
        "    while True:\n",
        "        Profile = create_profile_with_pseudocounts(Motifs)\n",
        "        #print(Profile)\n",
        "        Motifs = [profile_most_probable_kmer(Dna[i], k, Profile) for i in range(len(Dna))]\n",
        "        current_score = get_score(Motifs)\n",
        "        if current_score < BestScore:\n",
        "            BestMotifs = Motifs\n",
        "            BestScore = current_score\n",
        "        else:\n",
        "            return BestMotifs, BestScore\n",
        "\n",
        "if __name__ == \"__main__\":\n",
        "    with open(\"/content/rosalind_ba2f.txt\", \"r\") as f:\n",
        "        k, t = map(int, f.readline().strip().split())\n",
        "        Dna = [line.strip() for line in f]\n",
        "    # k, t = 8, 5\n",
        "    # Dna = ['CGCCCCTCTCGGGGGTGTTCAGTAAACGGCCA',\n",
        "    # 'GGGCGAGGTATGTGTAAGTGCCAAGGTGCCAG',\n",
        "    # 'TAGTACCGAGACCGAAAGAAGTATACAGGCGT',\n",
        "    # 'TAGATCAAGTTTCAGGTGCACGTCGGTGAACC',\n",
        "    # 'AATCCACCAGCTCCACGTGCAATGTTGGCCTA']\n",
        "    allScores = []\n",
        "    allMotifs = []\n",
        "    for i in range(1000):\n",
        "        motifs, scores = randomized_motif_search(Dna, k, t)\n",
        "        allScores.append(scores)\n",
        "        allMotifs.append(motifs)\n",
        "    BestMotifs = allMotifs[allScores.index(min(allScores))]\n",
        "    print(\"\\n\".join(BestMotifs))"
      ],
      "metadata": {
        "colab": {
          "base_uri": "https://localhost:8080/"
        },
        "id": "zaD8XS1Es5bd",
        "outputId": "22923761-4f87-4bfd-fd02-3e4dd60d15a0"
      },
      "execution_count": 10,
      "outputs": [
        {
          "output_type": "stream",
          "name": "stdout",
          "text": [
            "TTAGTCCGGATAGGG\n",
            "TAAAGCCAGATGTCG\n",
            "TAACTACAGATGGTC\n",
            "TAACTAAGTATGTCG\n",
            "TAACTACAGACCACG\n",
            "CAACTACAGATGTAA\n",
            "CTACTACAGATGTCT\n",
            "TATGGACAGATGTCG\n",
            "GTGCTACAGATGTCG\n",
            "TAACTACATCCGTCG\n",
            "TAACGCGAGATGTCG\n",
            "TAAACTCAGATGTCG\n",
            "TAACTACAGCACTCG\n",
            "TCCGTACAGATGTCG\n",
            "TAACCTTAGATGTCG\n",
            "TAACTGATGATGTCG\n",
            "TAACTATGTATGTCG\n",
            "TAACTACAGATCCAG\n",
            "TAACTTTTGATGTCG\n",
            "TAACTACTTCTGTCG\n"
          ]
        }
      ]
    },
    {
      "cell_type": "markdown",
      "source": [
        "BA2G: Implement GibbsSampler"
      ],
      "metadata": {
        "id": "AsT1GTdNtoen"
      }
    },
    {
      "cell_type": "code",
      "source": [
        "import random\n",
        "from random import randint\n",
        "\n",
        "def probability_of_kmer(string, matrix):\n",
        "    probability = 1.0\n",
        "    for i in range(len(string)):\n",
        "        if string[i] == 'A':\n",
        "            probability *= matrix[0][i]\n",
        "        elif string[i] == 'C':\n",
        "            probability *= matrix[1][i]\n",
        "        elif string[i] == 'G':\n",
        "            probability *= matrix[2][i]\n",
        "        elif string[i] == 'T':\n",
        "            probability *= matrix[3][i]\n",
        "    return probability\n",
        "\n",
        "def profile_most_probable_kmer(string, k, matrix):\n",
        "    kmer_probability = {}\n",
        "    for i in range(len(string)-k+1):\n",
        "        kmer_probability[string[i:i+k]] = probability_of_kmer(string[i:i+k], matrix)\n",
        "    max_key = max(kmer_probability, key=kmer_probability.get)\n",
        "    return max_key\n",
        "\n",
        "def get_score(Motifs):\n",
        "    count_score = 0\n",
        "    for i in range(len(Motifs[0])):\n",
        "        j = [motif[i] for motif in Motifs]\n",
        "        count_score += (len(j) - max(j.count(\"A\"), j.count(\"C\"), j.count(\"G\"), j.count(\"T\")))\n",
        "    return count_score\n",
        "\n",
        "def get_random_motifs(Dna, k, t):\n",
        "    motifs = []\n",
        "    kmer_index = [random.randint(0, len(Dna[0]) - k) for i in range(len(Dna))]\n",
        "    motifs = [Dna[i][j:j+k] for i, j in enumerate(kmer_index)]\n",
        "    return motifs\n",
        "\n",
        "def create_profile_with_pseudocounts(motifs):\n",
        "    matrix = []\n",
        "    for base in [\"A\", \"C\", \"G\", \"T\"]:\n",
        "        row = []\n",
        "        for j in range(len(motifs[0])):\n",
        "            col = [x[j] for x in motifs]\n",
        "            #print(col)\n",
        "            row.append(float(col.count(base) + 1) / float(t + 4))\n",
        "        matrix.append(row)\n",
        "    #print(matrix)\n",
        "    return matrix\n",
        "\n",
        "def GibbsSampler(Dna, k, t, N):\n",
        "    Motifs = get_random_motifs(Dna, k, t)\n",
        "    BestMotifs = Motifs\n",
        "    BestScore = get_score(BestMotifs)\n",
        "    for j in range(N):\n",
        "        i = random.randint(0, t-1)\n",
        "        Motifs.pop(i)\n",
        "        Profile = create_profile_with_pseudocounts(Motifs)\n",
        "        #print(Profile)\n",
        "        motif = profile_most_probable_kmer(Dna[i], k, Profile)\n",
        "        #print(motif)\n",
        "        Motifs.insert(i, motif)\n",
        "        current_score = get_score(Motifs)\n",
        "        if current_score < BestScore:\n",
        "            BestMotifs = Motifs\n",
        "            BestScore = current_score\n",
        "    return BestMotifs, BestScore\n",
        "\n",
        "if __name__ == \"__main__\":\n",
        "    # k, t, N = 8, 5, 100\n",
        "    # Dna = ['CGCCCCTCTCGGGGGTGTTCAGTAAACGGCCA',\n",
        "    #        'GGGCGAGGTATGTGTAAGTGCCAAGGTGCCAG',\n",
        "    #        'TAGTACCGAGACCGAAAGAAGTATACAGGCGT',\n",
        "    #        'TAGATCAAGTTTCAGGTGCACGTCGGTGAACC',\n",
        "    #        'AATCCACCAGCTCCACGTGCAATGTTGGCCTA']\n",
        "    with open(\"/content/rosalind_ba2g.txt\", \"r\") as f:\n",
        "        k, t, N = map(int, f.readline().strip().split())\n",
        "        Dna = [f.readline().strip() for _ in range(t)]\n",
        "    allScores = []\n",
        "    allMotifs = []\n",
        "    min_score = 9999999999999999\n",
        "    best_motifs = None\n",
        "    for i in range(20):\n",
        "        motifs, scores = GibbsSampler(Dna, k, t, N)\n",
        "        if scores < min_score:\n",
        "            min_score = scores\n",
        "            best_motifs = motifs\n",
        "    print(*best_motifs, sep='\\n')"
      ],
      "metadata": {
        "colab": {
          "base_uri": "https://localhost:8080/"
        },
        "id": "qG9Jo-SYt3iE",
        "outputId": "96de17cd-95d2-46f6-d0c9-4992d5a7f27e"
      },
      "execution_count": 12,
      "outputs": [
        {
          "output_type": "stream",
          "name": "stdout",
          "text": [
            "GTGAGCCATCGCGCG\n",
            "AGGTCGAAACGAGCG\n",
            "ACACTCAAACGAGCG\n",
            "AGGATGGGACGAGCG\n",
            "AGGATCAGTAGAGCG\n",
            "AGGATTTTACGAGCG\n",
            "AGGATCAAAAATGCG\n",
            "AGGATCAAACCGCCG\n",
            "CAGATCAAACGAGCA\n",
            "AGGGCAAAACGAGCG\n",
            "AGGATCGCCCGAGCG\n",
            "AGGATCAAGGAAGCG\n",
            "GTAATCAAACGAGCG\n",
            "AGGACTGAACGAGCG\n",
            "AGGAATTAACGAGCG\n",
            "GGGATCAAACGAGGT\n",
            "AGCGCCAAACGAGCG\n",
            "AGGATCAAACGACAA\n",
            "AGGATCAAACGGCTG\n",
            "AGGATCCGCCGAGCG\n"
          ]
        }
      ]
    },
    {
      "cell_type": "markdown",
      "source": [
        "BA2H: Implement DistanceBetweenPatternAndStrings"
      ],
      "metadata": {
        "id": "shtdE91Purhw"
      }
    },
    {
      "cell_type": "code",
      "source": [
        "def hammingDist(genome, kmer):\n",
        "    dist = []\n",
        "    for i in range(len(genome) - len(kmer) + 1):\n",
        "        word = genome[i:i+len(kmer)]\n",
        "        dist.append(sum(x != y for x, y in zip(word, kmer)))\n",
        "    return(min(dist))\n",
        "\n",
        "def DistanceBetweenPatternAndStrings(pattern, dna):\n",
        "    distance = 0\n",
        "    for seq in dna:\n",
        "        tempDist = [hammingDist(pattern, seq[i : i + len(pattern)]) for i in range(len(seq) - len(pattern) + 1)]\n",
        "        minTempDist = min(tempDist)\n",
        "        distance += minTempDist\n",
        "    return(distance)\n",
        "\n",
        "if __name__ == \"__main__\":\n",
        "    # pattern = 'AAA'\n",
        "    # dna = ['TTACCTTAAC', 'GATATCTGTC', 'ACGGCGTTCG', 'CCCTAAAGAG', 'CGTCAGAGGT']\n",
        "    with open(\"/content/rosalind_ba2h.txt\", 'r') as f:\n",
        "        pattern = f.readline().rstrip()\n",
        "        dna = f.readline().rstrip().split()\n",
        "    print(DistanceBetweenPatternAndStrings(pattern, dna))"
      ],
      "metadata": {
        "colab": {
          "base_uri": "https://localhost:8080/"
        },
        "id": "oXufq8MNuyHD",
        "outputId": "84833ff4-8491-45f3-85f9-8024a64877c2"
      },
      "execution_count": 13,
      "outputs": [
        {
          "output_type": "stream",
          "name": "stdout",
          "text": [
            "59\n"
          ]
        }
      ]
    }
  ]
}