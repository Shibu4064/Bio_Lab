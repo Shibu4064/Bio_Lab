{
 "cells": [
  {
   "cell_type": "code",
   "execution_count": 1,
   "metadata": {},
   "outputs": [
    {
     "name": "stdout",
     "output_type": "stream",
     "text": [
      "I am HMS\n"
     ]
    }
   ],
   "source": [
    "print(\"I am HMS\")"
   ]
  },
  {
   "cell_type": "code",
   "execution_count": 2,
   "metadata": {},
   "outputs": [],
   "source": [
    "import numpy as np"
   ]
  },
  {
   "cell_type": "code",
   "execution_count": 4,
   "metadata": {},
   "outputs": [
    {
     "name": "stdout",
     "output_type": "stream",
     "text": [
      "Collecting bioinfokit\n",
      "  Downloading https://files.pythonhosted.org/packages/c9/d3/e1e93d61a31926eb6ab5fee434d3f78d93d568aec39050b8129522188206/bioinfokit-2.1.3.tar.gz (87kB)\n",
      "Requirement already satisfied: pandas in c:\\users\\cse303\\anaconda3\\lib\\site-packages (from bioinfokit) (0.24.2)\n",
      "Requirement already satisfied: numpy in c:\\users\\cse303\\anaconda3\\lib\\site-packages (from bioinfokit) (1.16.2)\n",
      "Requirement already satisfied: matplotlib in c:\\users\\cse303\\anaconda3\\lib\\site-packages (from bioinfokit) (3.0.3)\n",
      "Requirement already satisfied: scipy in c:\\users\\cse303\\anaconda3\\lib\\site-packages (from bioinfokit) (1.2.1)\n",
      "Requirement already satisfied: scikit-learn in c:\\users\\cse303\\anaconda3\\lib\\site-packages (from bioinfokit) (0.20.3)\n",
      "Requirement already satisfied: seaborn in c:\\users\\cse303\\anaconda3\\lib\\site-packages (from bioinfokit) (0.9.0)\n",
      "Collecting matplotlib-venn (from bioinfokit)\n",
      "  Downloading https://files.pythonhosted.org/packages/65/c3/909f0eb9bfee4726fe067e0e86f63900ea5b0a03e9855821e8aaf52c79f3/matplotlib-venn-0.11.9.tar.gz\n",
      "  Installing build dependencies: started\n",
      "  Installing build dependencies: finished with status 'done'\n",
      "  Getting requirements to build wheel: started\n",
      "  Getting requirements to build wheel: finished with status 'done'\n",
      "  Installing backend dependencies: started\n",
      "  Installing backend dependencies: finished with status 'done'\n",
      "    Preparing wheel metadata: started\n",
      "    Preparing wheel metadata: finished with status 'done'\n",
      "Collecting tabulate (from bioinfokit)\n",
      "  Downloading https://files.pythonhosted.org/packages/40/44/4a5f08c96eb108af5cb50b41f76142f0afa346dfa99d5296fe7202a11854/tabulate-0.9.0-py3-none-any.whl\n",
      "Requirement already satisfied: statsmodels in c:\\users\\cse303\\anaconda3\\lib\\site-packages (from bioinfokit) (0.9.0)\n",
      "Collecting textwrap3 (from bioinfokit)\n",
      "  Downloading https://files.pythonhosted.org/packages/77/9c/a53e561d496ee5866bbeea4d3a850b3b545ed854f8a21007c1e0d872e94d/textwrap3-0.9.2-py2.py3-none-any.whl\n",
      "Collecting adjustText (from bioinfokit)\n",
      "  Downloading https://files.pythonhosted.org/packages/44/36/ac4a2dfefe115be67403bb8c622edf5b6adacbb3afd2ac921af37138ec1c/adjustText-0.8-py3-none-any.whl\n",
      "Requirement already satisfied: pytz>=2011k in c:\\users\\cse303\\anaconda3\\lib\\site-packages (from pandas->bioinfokit) (2018.9)\n",
      "Requirement already satisfied: python-dateutil>=2.5.0 in c:\\users\\cse303\\anaconda3\\lib\\site-packages (from pandas->bioinfokit) (2.8.0)\n",
      "Requirement already satisfied: cycler>=0.10 in c:\\users\\cse303\\anaconda3\\lib\\site-packages (from matplotlib->bioinfokit) (0.10.0)\n",
      "Requirement already satisfied: kiwisolver>=1.0.1 in c:\\users\\cse303\\anaconda3\\lib\\site-packages (from matplotlib->bioinfokit) (1.0.1)\n",
      "Requirement already satisfied: pyparsing!=2.0.4,!=2.1.2,!=2.1.6,>=2.0.1 in c:\\users\\cse303\\anaconda3\\lib\\site-packages (from matplotlib->bioinfokit) (2.3.1)\n",
      "Requirement already satisfied: six>=1.5 in c:\\users\\cse303\\anaconda3\\lib\\site-packages (from python-dateutil>=2.5.0->pandas->bioinfokit) (1.12.0)\n",
      "Requirement already satisfied: setuptools in c:\\users\\cse303\\anaconda3\\lib\\site-packages (from kiwisolver>=1.0.1->matplotlib->bioinfokit) (40.8.0)\n",
      "Building wheels for collected packages: matplotlib-venn\n",
      "  Building wheel for matplotlib-venn (PEP 517): started\n",
      "  Building wheel for matplotlib-venn (PEP 517): finished with status 'done'\n",
      "  Stored in directory: C:\\Users\\CSE303\\AppData\\Local\\pip\\Cache\\wheels\\b1\\ba\\9e\\b32758f2bcaf7543829edd7bcbe10d51538f41851db39b1ea0\n",
      "Successfully built matplotlib-venn\n",
      "Building wheels for collected packages: bioinfokit\n",
      "  Building wheel for bioinfokit (setup.py): started\n",
      "  Building wheel for bioinfokit (setup.py): finished with status 'done'\n",
      "  Stored in directory: C:\\Users\\CSE303\\AppData\\Local\\pip\\Cache\\wheels\\84\\10\\d2\\a16002d271aad43d7bd648fbad2f24759081b47c4183654928\n",
      "Successfully built bioinfokit\n",
      "Installing collected packages: matplotlib-venn, tabulate, textwrap3, adjustText, bioinfokit\n",
      "Successfully installed adjustText-0.8 bioinfokit-2.1.3 matplotlib-venn-0.11.9 tabulate-0.9.0 textwrap3-0.9.2\n"
     ]
    }
   ],
   "source": [
    "!pip install bioinfokit"
   ]
  },
  {
   "cell_type": "code",
   "execution_count": 5,
   "metadata": {},
   "outputs": [
    {
     "data": {
      "text/plain": [
       "'AGGCATT'"
      ]
     },
     "execution_count": 5,
     "metadata": {},
     "output_type": "execute_result"
    }
   ],
   "source": [
    "from bioinfokit.analys import Fasta\n",
    "\n",
    "# perform reverse complement\n",
    "Fasta.rev_com(seq=\"AATGCCT\")"
   ]
  },
  {
   "cell_type": "code",
   "execution_count": 7,
   "metadata": {},
   "outputs": [
    {
     "name": "stdout",
     "output_type": "stream",
     "text": [
      "AGGCATT\n"
     ]
    }
   ],
   "source": [
    "def reverse_compo(seq):\n",
    "    seq=seq.replace(\"A\",\"t\").replace(\"C\",\"g\").replace(\"T\",\"a\").replace(\"G\",\"c\")\n",
    "    seq=seq.upper()\n",
    "    seq=seq[::-1]\n",
    "    return seq\n",
    "print(reverse_compo(\"AATGCCT\"))"
   ]
  },
  {
   "cell_type": "code",
   "execution_count": 8,
   "metadata": {},
   "outputs": [
    {
     "name": "stdout",
     "output_type": "stream",
     "text": [
      "Collecting biopython\n",
      "  Downloading https://files.pythonhosted.org/packages/f2/12/66bc9e4506edd7c778980ea0bc5597bc125288bc6573c78031017571ca0b/biopython-1.81-cp37-cp37m-win_amd64.whl (2.7MB)\n",
      "Requirement already satisfied: numpy in c:\\users\\cse303\\anaconda3\\lib\\site-packages (from biopython) (1.16.2)\n",
      "Installing collected packages: biopython\n",
      "Successfully installed biopython-1.81\n"
     ]
    }
   ],
   "source": [
    "!pip install biopython"
   ]
  },
  {
   "cell_type": "code",
   "execution_count": 9,
   "metadata": {},
   "outputs": [
    {
     "name": "stdout",
     "output_type": "stream",
     "text": [
      "<class 'Bio.Seq.Seq'>\n",
      "TTACGGA\n",
      "AGGCATT\n",
      "AAUGCCU\n"
     ]
    }
   ],
   "source": [
    "from Bio.Seq import Seq\n",
    "seq=Seq('AATGCCT')\n",
    "print(type(seq))\n",
    "print(seq.complement())\n",
    "print(seq.reverse_complement())\n",
    "print(seq.transcribe())"
   ]
  },
  {
   "cell_type": "code",
   "execution_count": 11,
   "metadata": {},
   "outputs": [
    {
     "name": "stdout",
     "output_type": "stream",
     "text": [
      "NA\n",
      "AATGCCT\n"
     ]
    },
    {
     "name": "stderr",
     "output_type": "stream",
     "text": [
      "C:\\Users\\CSE303\\Anaconda3\\lib\\site-packages\\Bio\\Seq.py:2808: BiopythonWarning: Partial codon, len(sequence) not a multiple of three. Explicitly trim the sequence or add trailing N before translation. This may become an error in future.\n",
      "  BiopythonWarning,\n"
     ]
    }
   ],
   "source": [
    "rna_seq=seq.transcribe()\n",
    "print(rna_seq.translate())\n",
    "print(rna_seq.back_transcribe())"
   ]
  },
  {
   "cell_type": "code",
   "execution_count": 12,
   "metadata": {},
   "outputs": [
    {
     "name": "stdout",
     "output_type": "stream",
     "text": [
      "7 6 5 4\n"
     ]
    }
   ],
   "source": [
    "seq=Seq('AATATTAGGCCGTTAGGCCATA')\n",
    "print(seq.count('A'),seq.count('T'),seq.count('G'),seq.count('C'))"
   ]
  },
  {
   "cell_type": "markdown",
   "metadata": {},
   "source": [
    "# GC Content\n",
    "### percentage of G+C in whole sequence\n",
    "#### equation ((G+C)/(A+T+G+C))*100"
   ]
  },
  {
   "cell_type": "code",
   "execution_count": 13,
   "metadata": {},
   "outputs": [
    {
     "name": "stdout",
     "output_type": "stream",
     "text": [
      "40.909090909090914\n"
     ]
    }
   ],
   "source": [
    "A=seq.count('A')\n",
    "T=seq.count('T')\n",
    "G=seq.count('G')\n",
    "C=seq.count('C')\n",
    "gc_content=((G+C)/(A+T+G+C))*100\n",
    "print(gc_content)"
   ]
  },
  {
   "cell_type": "code",
   "execution_count": 14,
   "metadata": {},
   "outputs": [
    {
     "name": "stderr",
     "output_type": "stream",
     "text": [
      "C:\\Users\\CSE303\\Anaconda3\\lib\\site-packages\\Bio\\SeqUtils\\__init__.py:146: BiopythonDeprecationWarning: GC is deprecated; please use gc_fraction instead.\n",
      "  BiopythonDeprecationWarning,\n"
     ]
    },
    {
     "data": {
      "text/plain": [
       "40.90909090909091"
      ]
     },
     "execution_count": 14,
     "metadata": {},
     "output_type": "execute_result"
    }
   ],
   "source": [
    "from Bio.SeqUtils import GC\n",
    "GC(seq)"
   ]
  },
  {
   "cell_type": "code",
   "execution_count": 15,
   "metadata": {},
   "outputs": [
    {
     "data": {
      "text/plain": [
       "6838.376700000001"
      ]
     },
     "execution_count": 15,
     "metadata": {},
     "output_type": "execute_result"
    }
   ],
   "source": [
    "from Bio.SeqUtils import molecular_weight as mc\n",
    "mc(seq)"
   ]
  },
  {
   "cell_type": "markdown",
   "metadata": {},
   "source": [
    "# accessing NCBI databases with biopython\n",
    "## National Center for Biotechnology Information "
   ]
  },
  {
   "cell_type": "markdown",
   "metadata": {},
   "source": [
    "# GenBank(a database)\n",
    "## All NCBI databases can be accessed through their ENTREZ interface"
   ]
  },
  {
   "cell_type": "markdown",
   "metadata": {},
   "source": [
    "# Tips\n",
    "* specify an email address with your query\n",
    "* avoid large number of requests during peak times\n",
    "* don't post more than threee queries per second\n",
    "* be sensible with your usage levels: if you want to download whole mammalian genomes, use NCBI's FTP(https://www.ncbi.nlm.nih.gov/Ftp/)\n",
    "\n",
    "### Following these rules will help you to avoid risks of getting blocked if you over use NCBI's servers"
   ]
  },
  {
   "cell_type": "code",
   "execution_count": 17,
   "metadata": {},
   "outputs": [],
   "source": [
    "from Bio import Entrez, SeqIO\n",
    "Entrez.email=\"hrithikworks22@gmail.com\""
   ]
  },
  {
   "cell_type": "code",
   "execution_count": 19,
   "metadata": {},
   "outputs": [
    {
     "data": {
      "text/plain": [
       "{'DbList': ['pubmed', 'protein', 'nuccore', 'ipg', 'nucleotide', 'structure', 'genome', 'annotinfo', 'assembly', 'bioproject', 'biosample', 'blastdbinfo', 'books', 'cdd', 'clinvar', 'gap', 'gapplus', 'grasp', 'dbvar', 'gene', 'gds', 'geoprofiles', 'homologene', 'medgen', 'mesh', 'nlmcatalog', 'omim', 'orgtrack', 'pmc', 'popset', 'proteinclusters', 'pcassay', 'protfam', 'pccompound', 'pcsubstance', 'seqannot', 'snp', 'sra', 'taxonomy', 'biocollections', 'gtr']}"
      ]
     },
     "execution_count": 19,
     "metadata": {},
     "output_type": "execute_result"
    }
   ],
   "source": [
    "handle=Entrez.einfo()\n",
    "result=Entrez.read(handle)\n",
    "handle.close()\n",
    "#print(result.keys())\n",
    "result"
   ]
  },
  {
   "cell_type": "code",
   "execution_count": 24,
   "metadata": {},
   "outputs": [
    {
     "name": "stdout",
     "output_type": "stream",
     "text": [
      "dict_keys(['DbInfo'])\n"
     ]
    }
   ],
   "source": [
    "handle=Entrez.einfo(db='pubmed')\n",
    "result=Entrez.read(handle)\n",
    "handle.close()\n",
    "print(result.keys())"
   ]
  },
  {
   "cell_type": "code",
   "execution_count": 25,
   "metadata": {},
   "outputs": [
    {
     "data": {
      "text/plain": [
       "dict_keys(['DbName', 'MenuName', 'Description', 'DbBuild', 'Count', 'LastUpdate', 'FieldList', 'LinkList'])"
      ]
     },
     "execution_count": 25,
     "metadata": {},
     "output_type": "execute_result"
    }
   ],
   "source": [
    "result['DbInfo'].keys()"
   ]
  },
  {
   "cell_type": "code",
   "execution_count": 27,
   "metadata": {},
   "outputs": [
    {
     "name": "stdout",
     "output_type": "stream",
     "text": [
      "36198654 PubMed bibliographic record 2023/09/13 10:25\n"
     ]
    }
   ],
   "source": [
    "print(result['DbInfo']['Count'],result['DbInfo']['Description'],result['DbInfo']['LastUpdate'])"
   ]
  },
  {
   "cell_type": "code",
   "execution_count": 28,
   "metadata": {},
   "outputs": [
    {
     "name": "stdout",
     "output_type": "stream",
     "text": [
      "dict_keys(['DbInfo'])\n"
     ]
    }
   ],
   "source": [
    "handle=Entrez.einfo(db='nucleotide')\n",
    "result=Entrez.read(handle)\n",
    "handle.close()\n",
    "print(result.keys())"
   ]
  },
  {
   "cell_type": "code",
   "execution_count": 30,
   "metadata": {},
   "outputs": [
    {
     "name": "stdout",
     "output_type": "stream",
     "text": [
      "606742101 Core Nucleotide db 2023/09/09 00:31\n"
     ]
    }
   ],
   "source": [
    "print(result['DbInfo']['Count'],result['DbInfo']['Description'],result['DbInfo']['LastUpdate'])"
   ]
  },
  {
   "cell_type": "code",
   "execution_count": 31,
   "metadata": {},
   "outputs": [
    {
     "name": "stdout",
     "output_type": "stream",
     "text": [
      "ALL,All Fields,All terms from all searchable fields\n",
      "UID,UID,Unique number assigned to each sequence\n",
      "FILT,Filter,Limits the records\n",
      "WORD,Text Word,Free text associated with record\n",
      "TITL,Title,Words in definition line\n",
      "KYWD,Keyword,Nonstandardized terms provided by submitter\n",
      "AUTH,Author,Author(s) of publication\n",
      "JOUR,Journal,Journal abbreviation of publication\n",
      "VOL,Volume,Volume number of publication\n",
      "ISS,Issue,Issue number of publication\n",
      "PAGE,Page Number,Page number(s) of publication\n",
      "ORGN,Organism,Scientific and common names of organism, and all higher levels of taxonomy\n",
      "ACCN,Accession,Accession number of sequence\n",
      "PACC,Primary Accession,Does not include retired secondary accessions\n",
      "GENE,Gene Name,Name of gene associated with sequence\n",
      "PROT,Protein Name,Name of protein associated with sequence\n",
      "ECNO,EC/RN Number,EC number for enzyme or CAS registry number\n",
      "PDAT,Publication Date,Date sequence added to GenBank\n",
      "MDAT,Modification Date,Date of last update\n",
      "SUBS,Substance Name,CAS chemical name or MEDLINE Substance Name\n",
      "PROP,Properties,Classification by source qualifiers and molecule type\n",
      "SQID,SeqID String,String identifier for sequence\n",
      "GPRJ,BioProject,BioProject\n",
      "SLEN,Sequence Length,Length of sequence\n",
      "FKEY,Feature key,Feature annotated on sequence\n",
      "PORG,Primary Organism,Scientific and common names of primary organism, and all higher levels of taxonomy\n",
      "COMP,Component Accession,Component accessions for an assembly\n",
      "ASSM,Assembly,Assembly\n",
      "DIV,Division,Division\n",
      "STRN,Strain,Strain\n",
      "ISOL,Isolate,Isolate\n",
      "CULT,Cultivar,Cultivar\n",
      "BRD,Breed,Breed\n",
      "BIOS,BioSample,BioSample\n"
     ]
    }
   ],
   "source": [
    "for field in result['DbInfo']['FieldList']:\n",
    "    print('%(Name)s,%(FullName)s,%(Description)s' % field)"
   ]
  },
  {
   "cell_type": "markdown",
   "metadata": {},
   "source": [
    "# Downloading a full record from Entrez\n",
    "## parameters\n",
    "* id: identifier(Accession no, GI(getinfo identifier) no etc)\n",
    "* db: database name(eg. nucleotide)\n",
    "* rettype: output format(eg. fasta, genbank(gb or gbk))\n",
    "* retmode: File Format(text,xml etc)"
   ]
  },
  {
   "cell_type": "code",
   "execution_count": 33,
   "metadata": {},
   "outputs": [
    {
     "name": "stdout",
     "output_type": "stream",
     "text": [
      ">NM_001126.2 Homo sapiens adenylosuccinate synthase (ADSS), mRNA\n",
      "GGAAGGGGCGTGGCCTCGGTCCGGGGTGGCGGCCGTTGCCGCCACCAGGGCCTCTTCCTGCGGGCGGTGC\n",
      "TGCCGAGGCCGGCCTGCGCGGGGCAGTCATGGTACCCCCTTGAGCGGGCTGTGGCGGAGAGCGGGGCGGG\n",
      "GACTGGCTGGAGGGTGGCGGCCCGGCGGGGCGGGGGCGGGGCCGGCCTCTGGCTCCTTCTTCCTCTGCAT\n",
      "GTGGCTGGCGGCCGCAGAGCAGTTCAGTTCGCTCACTCCTCGCCGGCCGCCTCTCCTTCGGGCTCTCCTC\n",
      "GCGTCACTGGAGCCATGGCGTTCGCCGAGACCTACCCGGCGGCATCCTCCCTGCCCAACGGCGATTGCGG\n",
      "CCGCCCCAGGGCGCGGCCCGGAGGAAACCGGGTGACGGTGGTGCTCGGTGCGCAGTGGGGCGACGAAGGC\n",
      "AAAGGGAAGGTGGTGGACCTGCTGGCGCAGGACGCCGACATCGTGTGCCGCTGCCAGGGAGGAAATAATG\n",
      "CTGGCCATACAGTTGTTGTGGATTCTGTGGAATATGATTTTCATCTCTTACCCAGTGGAATAATTAATCC\n",
      "AAATGTCACTGCATTCATTGGAAATGGTGTGGTAATTCATCTACCTGGATTGTTTGAAGAAGCAGAGAAA\n",
      "AATGTTCAAAAAGGAAAAGGACTAGAAGGCTGGGAAAAAAGGCTTATTATATCTGACAGAGCTCATATTG\n",
      "TATTTGATTTTCATCAAGCAGCTGATGGTATCCAGGAACAACAGAGACAAGAACAAGCAGGAAAAAATTT\n",
      "GGGTACAACAAAAAAGGGCATTGGCCCAGTTTATTCGTCCAAAGCTGCTCGGAGTGGACTCAGGATGTGC\n",
      "GACCTTGTTTCTGACTTTGATGGCTTCTCTGAGAGGTTTAAAGTTCTAGCTAACCAATACAAATCTATAT\n",
      "ACCCCACTTTGGAAATAGACATTGAAGGTGAATTACAAAAACTCAAGGGTTATATGGAAAAGATTAAACC\n",
      "AATGGTGAGAGATGGAGTTTATTTTCTATATGAGGCCCTACATGGACCACCAAAGAAAATCTTGGTAGAA\n",
      "GGTGCAAATGCAGCACTATTAGATATTGATTTTGGGACTTACCCTTTTGTAACCTCTTCAAATTGTACTG\n",
      "TTGGAGGTGTTTGTACTGGTTTGGGTATGCCACCTCAAAATGTTGGAGAAGTGTATGGAGTTGTGAAAGC\n",
      "TTATACAACTAGAGTTGGTATTGGTGCCTTTCCTACAGAGCAAGACAATGAAATTGGAGAATTATTACAA\n",
      "ACAAGGGGTAGAGAGTTTGGTGTAACTACTGGAAGGAAAAGAAGATGTGGCTGGTTGGACCTCGTTTTGC\n",
      "TCAAATATGCTCATATGATCAATGGATTTACTGCGTTGGCACTTACCAAGTTGGATATTTTGGACATGTT\n",
      "TACGGAAATCAAAGTTGGAGTTGCTTACAAGTTAGATGGTGAAATCATACCTCATATCCCAGCAAACCAA\n",
      "GAAGTCTTAAATAAAGTTGAAGTTCAATATAAGACTCTCCCAGGATGGAACACAGACATATCAAATGCAA\n",
      "GGGCGTTTAAAGAACTACCTGTTAATGCACAAAACTATGTTCGATTTATTGAAGATGAGCTTCAAATTCC\n",
      "AGTTAAGTGGATTGGTGTTGGTAAATCCAGAGAATCTATGATTCAACTCTTTTAATGATTGCCAGTAATG\n",
      "CAAGAAACACTCCTTGAGAGGGAGGGGAAAAGACTTTCTTAAATATTTCATTTATGACCTGCAAATTCAA\n",
      "GAATAAAGACACTGAAGTAAGTTTGAAGCCCTACAGTTGTTTCCAGTCTTTTCAGATGGATGCCTACTGT\n",
      "GGAGATTAACTTTGGCATATTCCAGTGTCAGCTTTCTTTAGCTGGAATTGCCAAATCATTTGTTGCTCCT\n",
      "GCTGCTCTCATGGTGCCACGTTTTTTTTTTCAATGTTTAGTAATAGTATAATCCATGTTGTTTGATATCA\n",
      "AAAGTAGAATTACTTTTAATGTAGTTTTTCTTCATTATTGTCATTGCGTGTTCTTAAGTTTTACCCCTAT\n",
      "TAGATGGTAAGAACAATTAATGCAGTTTTGCACAAATATTTTTACATTCTGATCATTCAGTTCTGTCATT\n",
      "GTAATCTTTGTTGTTAGAAACAAATGATGAAAACATAGGGGTTCTGTAAACTTTTGTAATGCTATGAATT\n",
      "CTGTTTAAATTTTGGGCTGTCTATTTTCTGCTGAAACCATGCAAAATTGAGCTTTGGTGGGGCTGGGAGG\n",
      "GGGTTATGTATTCATGGGACCTTTAATTTGTACAGAACACAGAACTTATTTCTGTCAGTTATTTAATACA\n",
      "TTGAAAATTTAGTGAAATGTTCAAAGAGAATAGATGTTTCCCAAAACAACAATCTTTATGTTAAAAATAG\n",
      "TCATTAAAAGATCTGTTGTAATATATGGTGGATATTTTTCTTTAATTTCAAACATTACCTCTGAAATGTG\n",
      "TATCTTTTCTTTTTTATCTTACCATTAATTTTAAATCTAGTGGATTGGTTTTCAACATCGTGCCTGCCGA\n",
      "TATGCCTACAGAATCATCTGTAAGTGTCAAAATGAACCCACGTTGTTAGCCATAATTTTGATTATGCCTT\n",
      "TATTTCTCCTTTCTTGAAAAAAAAAAGGTGTTATTTTGACAATTAGGCATAACATTGTTTTGTAGATTAT\n",
      "CTTTTAATGAACTATTTTAAATGTTAAATTAGGTGCCACTTAAATTTATTTTATTACACCATGAATAGCT\n",
      "GATTAAAAGAACCAAATATTTCTAGTAAAAAAAAAAAAAAAAAAA\n",
      "\n",
      "\n"
     ]
    }
   ],
   "source": [
    "handle=Entrez.efetch(db='nucleotide',id='34577062',rettype='fasta',retmode='text')\n",
    "print(handle.read())"
   ]
  },
  {
   "cell_type": "code",
   "execution_count": 36,
   "metadata": {},
   "outputs": [
    {
     "name": "stdout",
     "output_type": "stream",
     "text": [
      "Sequence ID:NM_001126.2,Sequence Name:NM_001126.2,Sequence Length:2775,\n",
      "Sequence Description:NM_001126.2 Homo sapiens adenylosuccinate synthase (ADSS), mRNA\n"
     ]
    }
   ],
   "source": [
    "handle=Entrez.efetch(db='nucleotide',id='NM_001126.2',rettype='fasta',retmode='text')\n",
    "record=SeqIO.read(handle,'fasta')\n",
    "print(f'''Sequence ID:{record.id},Sequence Name:{record.name},Sequence Length:{len(record)},\n",
    "Sequence Description:{record.description}''')"
   ]
  },
  {
   "cell_type": "code",
   "execution_count": 37,
   "metadata": {},
   "outputs": [
    {
     "data": {
      "text/plain": [
       "1"
      ]
     },
     "execution_count": 37,
     "metadata": {},
     "output_type": "execute_result"
    }
   ],
   "source": [
    "SeqIO.write(record,'TestSeq1.fasta','fasta')"
   ]
  },
  {
   "cell_type": "code",
   "execution_count": 38,
   "metadata": {},
   "outputs": [
    {
     "name": "stdout",
     "output_type": "stream",
     "text": [
      "Sequence ID:NM_001126.2,Sequence Name:NM_001126.2,Sequence Length:2775,\n",
      "Sequence Description:NM_001126.2 Homo sapiens adenylosuccinate synthase (ADSS), mRNA\n"
     ]
    }
   ],
   "source": [
    "record=SeqIO.read('TestSeq1.fasta','fasta')\n",
    "print(f'''Sequence ID:{record.id},Sequence Name:{record.name},Sequence Length:{len(record)},\n",
    "Sequence Description:{record.description}''')"
   ]
  },
  {
   "cell_type": "code",
   "execution_count": 40,
   "metadata": {},
   "outputs": [],
   "source": [
    "with Entrez.efetch(db='nucleotide',id='874509867',rettype='fasta',retmode='text') as handle:\n",
    "    with open('testSeq2.fasta','w') as f:\n",
    "        f.write(handle.read())"
   ]
  },
  {
   "cell_type": "code",
   "execution_count": 42,
   "metadata": {},
   "outputs": [
    {
     "name": "stdout",
     "output_type": "stream",
     "text": [
      "Sequence ID:KP644081.1,Sequence Name:KP644081.1,Sequence Length:553,\n",
      "Sequence Description:KP644081.1 Cypripedium calceolus voucher SNP_13_0359 ribulose-1,5-bisphosphate carboxylase/oxygenase large subunit (rbcL) gene, partial cds; chloroplast\n"
     ]
    }
   ],
   "source": [
    "record=SeqIO.read('TestSeq2.fasta','fasta')\n",
    "print(f'''Sequence ID:{record.id},Sequence Name:{record.name},Sequence Length:{len(record)},\n",
    "Sequence Description:{record.description}''')"
   ]
  },
  {
   "cell_type": "code",
   "execution_count": 44,
   "metadata": {},
   "outputs": [
    {
     "name": "stdout",
     "output_type": "stream",
     "text": [
      "2\n",
      "NM_001126.2 2775\n",
      "EU490707.1 1302\n"
     ]
    }
   ],
   "source": [
    "handle=Entrez.efetch(db='nucleotide',id=['34577062','186972394'],rettype='fasta',retmode='text')\n",
    "records=list(SeqIO.parse(handle,'fasta'))\n",
    "print(len(records))\n",
    "print(records[0].id,len(records[0]))\n",
    "print(records[1].id,len(records[1]))"
   ]
  },
  {
   "cell_type": "code",
   "execution_count": 45,
   "metadata": {},
   "outputs": [
    {
     "data": {
      "text/plain": [
       "2"
      ]
     },
     "execution_count": 45,
     "metadata": {},
     "output_type": "execute_result"
    }
   ],
   "source": [
    "SeqIO.write(records,'MultiSeq.fasta','fasta')"
   ]
  },
  {
   "cell_type": "code",
   "execution_count": 46,
   "metadata": {},
   "outputs": [
    {
     "name": "stdout",
     "output_type": "stream",
     "text": [
      "NM_001126.2 2775\n",
      "EU490707.1 1302\n"
     ]
    }
   ],
   "source": [
    "records=SeqIO.parse('MultiSeq.fasta','fasta')\n",
    "for record in records:\n",
    "    print(record.id,len(record))"
   ]
  },
  {
   "cell_type": "code",
   "execution_count": 50,
   "metadata": {},
   "outputs": [
    {
     "name": "stdout",
     "output_type": "stream",
     "text": [
      "NM_001126.2 2775 NM_001126\n",
      "{'molecule_type': 'mRNA', 'topology': 'linear', 'data_file_division': 'PRI', 'date': '10-OCT-2010', 'accessions': ['NM_001126'], 'sequence_version': 2, 'keywords': ['RefSeq'], 'source': 'Homo sapiens (human)', 'organism': 'Homo sapiens', 'taxonomy': ['Eukaryota', 'Metazoa', 'Chordata', 'Craniata', 'Vertebrata', 'Euteleostomi', 'Mammalia', 'Eutheria', 'Euarchontoglires', 'Primates', 'Haplorrhini', 'Catarrhini', 'Hominidae', 'Homo'], 'references': [Reference(title='Effect of a new non-cleavable substrate analog on wild-type and serine mutants in the signature sequence of adenylosuccinate lyase of Bacillus subtilis and Homo sapiens', ...), Reference(title='Association analyses of the interaction between the ADSS and ATM genes with schizophrenia in a Chinese population', ...), Reference(title='An association study of ADSS gene polymorphisms with schizophrenia', ...), Reference(title='Molecular cloning and characterization of a novel muscle adenylosuccinate synthetase, AdSSL1, from human bone marrow stromal cells', ...), Reference(title='Purine nucleotide cycle in rat renal cortex and medulla under conditions that mimic normal and low oxygen supply', ...), Reference(title='Cloning and characterization of the cDNA encoding human adenylosuccinate synthetase', ...), Reference(title='De novo purine nucleotide biosynthesis', ...), Reference(title='A gene correcting the defect in the CHO mutant Ade -H, deficient in a branch point enzyme (adenylosuccinate synthetase) of de novo purine biosynthesis, is located on the long arm of chromosome 1', ...), Reference(title='Interaction of adenylosuccinate synthetase with F-actin', ...), Reference(title='Human adenylosuccinate synthetase. Partial purification, kinetic and regulatory properties of the enzyme from placenta', ...)], 'comment': \"REVIEWED REFSEQ: This record has been curated by NCBI staff. The\\nreference sequence was derived from BC012356.1 and BG700800.1.\\n[WARNING] On Nov 25, 2010 this sequence was replaced by\\nNM_001126.3.\\nOn Sep 11, 2003 this sequence version replaced NM_001126.1.\\nSummary: Adenylosuccinate synthetase catalyzes the first committed\\nstep in the conversion of IMP to AMP [provided by RefSeq].\\nCOMPLETENESS: complete on the 3' end.\"}\n",
      "[SeqFeature(SimpleLocation(ExactPosition(0), ExactPosition(2775), strand=1), type='source', qualifiers=...), SeqFeature(SimpleLocation(ExactPosition(0), ExactPosition(2775), strand=1), type='gene', qualifiers=...), SeqFeature(SimpleLocation(ExactPosition(294), ExactPosition(1665), strand=1), type='CDS', qualifiers=...), SeqFeature(SimpleLocation(ExactPosition(2731), ExactPosition(2737), strand=1), type='regulatory', qualifiers=...), SeqFeature(SimpleLocation(ExactPosition(2756), ExactPosition(2757), strand=1), type='polyA_site', qualifiers=...)]\n"
     ]
    }
   ],
   "source": [
    "handle=Entrez.efetch(db='nucleotide',id='NM_001126.2',rettype='gb',retmode='text')\n",
    "record=SeqIO.read(handle,'gb')\n",
    "print(record.id,len(record),record.name)\n",
    "print(record.annotations)\n",
    "print(record.features)"
   ]
  },
  {
   "cell_type": "code",
   "execution_count": 51,
   "metadata": {},
   "outputs": [
    {
     "data": {
      "text/plain": [
       "1"
      ]
     },
     "execution_count": 51,
     "metadata": {},
     "output_type": "execute_result"
    }
   ],
   "source": [
    "SeqIO.write(record,'Seq.gb','gb')"
   ]
  },
  {
   "cell_type": "code",
   "execution_count": 54,
   "metadata": {},
   "outputs": [
    {
     "data": {
      "text/plain": [
       "dict_keys(['Count', 'RetMax', 'RetStart', 'IdList', 'TranslationSet', 'TranslationStack', 'QueryTranslation'])"
      ]
     },
     "execution_count": 54,
     "metadata": {},
     "output_type": "execute_result"
    }
   ],
   "source": [
    "handle=Entrez.esearch(db='nucleotide',term='\"Zea mays\"[Organism] AND rbcl[Gene]',retmax=20)\n",
    "record_list=Entrez.read(handle)\n",
    "handle.close()\n",
    "record_list.keys()"
   ]
  },
  {
   "cell_type": "code",
   "execution_count": 55,
   "metadata": {},
   "outputs": [
    {
     "data": {
      "text/plain": [
       "'39'"
      ]
     },
     "execution_count": 55,
     "metadata": {},
     "output_type": "execute_result"
    }
   ],
   "source": [
    "record_list['Count']"
   ]
  },
  {
   "cell_type": "code",
   "execution_count": 56,
   "metadata": {},
   "outputs": [
    {
     "data": {
      "text/plain": [
       "['2556365531', '2556365443', '2556365355', '2556365267', '2556365179', '2556365091', '2556365003', '2556364915', '2556364827', '2556364285', '2556364197', '2556364109', '2556364021', '2556363933', '11994090', '2449921184', '2449921097', '2323445212', '2321991244', '2321991156']"
      ]
     },
     "execution_count": 56,
     "metadata": {},
     "output_type": "execute_result"
    }
   ],
   "source": [
    "record_list['IdList']"
   ]
  },
  {
   "cell_type": "code",
   "execution_count": 57,
   "metadata": {},
   "outputs": [],
   "source": [
    "handle=Entrez.efetch(db='nucleotide',id='MN908947',rettype='gb',retmode='text')\n",
    "rec=SeqIO.read(handle,'gb')\n",
    "handle.close()"
   ]
  },
  {
   "cell_type": "code",
   "execution_count": 58,
   "metadata": {},
   "outputs": [
    {
     "data": {
      "text/plain": [
       "SeqRecord(seq=Seq('ATTAAAGGTTTATACCTTCCCAGGTAACAAACCAACCAACTTTCGATCTCTTGT...AAA'), id='MN908947.3', name='MN908947', description='Severe acute respiratory syndrome coronavirus 2 isolate Wuhan-Hu-1, complete genome', dbxrefs=[])"
      ]
     },
     "execution_count": 58,
     "metadata": {},
     "output_type": "execute_result"
    }
   ],
   "source": [
    "rec"
   ]
  },
  {
   "cell_type": "code",
   "execution_count": 59,
   "metadata": {},
   "outputs": [
    {
     "data": {
      "text/plain": [
       "29903"
      ]
     },
     "execution_count": 59,
     "metadata": {},
     "output_type": "execute_result"
    }
   ],
   "source": [
    "len(rec)"
   ]
  },
  {
   "cell_type": "code",
   "execution_count": 60,
   "metadata": {},
   "outputs": [
    {
     "data": {
      "text/plain": [
       "{'A': 8954, 'T': 9594, 'G': 5863, 'C': 5492}"
      ]
     },
     "execution_count": 60,
     "metadata": {},
     "output_type": "execute_result"
    }
   ],
   "source": [
    "count_nt={'A':rec.seq.count('A'),'T':rec.seq.count('T'),'G':rec.seq.count('G'),'C':rec.seq.count('C')}\n",
    "count_nt"
   ]
  },
  {
   "cell_type": "code",
   "execution_count": 61,
   "metadata": {},
   "outputs": [
    {
     "data": {
      "text/plain": [
       "Text(0.5, 1.0, 'Nucleotide frequency')"
      ]
     },
     "execution_count": 61,
     "metadata": {},
     "output_type": "execute_result"
    },
    {
     "data": {
      "image/png": "[encoded data removed]",
      "text/plain": [
       "<Figure size 432x288 with 1 Axes>"
      ]
     },
     "metadata": {
      "needs_background": "light"
     },
     "output_type": "display_data"
    }
   ],
   "source": [
    "import matplotlib.pyplot as plt\n",
    "width=0.5\n",
    "plt.bar(count_nt.keys(),count_nt.values(),width,color=['b','r','y','g'])\n",
    "plt.xlabel('Nucleotide')\n",
    "plt.ylabel('Frequency')\n",
    "plt.title('Nucleotide frequency')"
   ]
  },
  {
   "cell_type": "code",
   "execution_count": null,
   "metadata": {},
   "outputs": [],
   "source": []
  }
 ],
 "metadata": {
  "kernelspec": {
   "display_name": "Python 3",
   "language": "python",
   "name": "python3"
  },
  "language_info": {
   "codemirror_mode": {
    "name": "ipython",
    "version": 3
   },
   "file_extension": ".py",
   "mimetype": "text/x-python",
   "name": "python",
   "nbconvert_exporter": "python",
   "pygments_lexer": "ipython3",
   "version": "3.7.3"
  }
 },
 "nbformat": 4,
 "nbformat_minor": 2
}
