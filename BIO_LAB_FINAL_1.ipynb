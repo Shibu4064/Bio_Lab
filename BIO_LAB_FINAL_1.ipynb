{
  "nbformat": 4,
  "nbformat_minor": 0,
  "metadata": {
    "colab": {
      "provenance": []
    },
    "kernelspec": {
      "name": "python3",
      "display_name": "Python 3"
    },
    "language_info": {
      "name": "python"
    }
  },
  "cells": [
    {
      "cell_type": "code",
      "execution_count": null,
      "metadata": {
        "colab": {
          "base_uri": "https://localhost:8080/"
        },
        "id": "xyrCgHNAPol6",
        "outputId": "ce078fed-01e7-4bba-f349-be342eba4df3"
      },
      "outputs": [
        {
          "output_type": "execute_result",
          "data": {
            "text/plain": [
              "2"
            ]
          },
          "metadata": {},
          "execution_count": 11
        }
      ],
      "source": [
        "# BA1A\n",
        "\n",
        "def count(text, pattern):\n",
        "  t_len = len(text)\n",
        "  p_len = len(pattern)\n",
        "  if(t_len < p_len):\n",
        "    return 0\n",
        "  return sum([1 if pattern == text[i:i+p_len] else 0 for i in range(t_len-p_len+1)])\n",
        "\n",
        "text = 'GCGCG'\n",
        "pattern = 'GCG'\n",
        "count(text, pattern)"
      ]
    },
    {
      "cell_type": "code",
      "source": [
        "# BA1B\n",
        "from collections import Counter\n",
        "def frequent_kmer(dna, k):\n",
        "  kmers = Counter([dna[i:i+k] for i in range(len(dna) - k + 1)]).most_common()\n",
        "  return [kmer[0] for kmer in kmers if kmers[0][1] == kmer[1]]\n",
        "\n",
        "dna = 'ACGTTGCATGTCGCATGATGCATGAGAGCT'\n",
        "k = 4\n",
        "kmers = frequent_kmer(dna, k)\n",
        "ans = ' '.join([str(kmer) for kmer in kmers])\n",
        "print(ans)"
      ],
      "metadata": {
        "colab": {
          "base_uri": "https://localhost:8080/"
        },
        "id": "gRGyiJfETmMH",
        "outputId": "4ff12686-fbf5-4cfd-ebeb-71cb5ac5f88f"
      },
      "execution_count": null,
      "outputs": [
        {
          "output_type": "stream",
          "name": "stdout",
          "text": [
            "GCAT CATG\n"
          ]
        }
      ]
    },
    {
      "cell_type": "code",
      "source": [
        "# BA1C\n",
        "\n",
        "def complement(dna):\n",
        "  map = {'A':'T', 'T':'A', 'G':'C', 'C':'G'}\n",
        "  return ''.join([map[p] for p in dna])\n",
        "\n",
        "def reverse_complement(dna):\n",
        "  return complement(dna)[::-1]\n",
        "\n",
        "dna = 'AAAACCCGGT'\n",
        "reverse_complement(dna)"
      ],
      "metadata": {
        "colab": {
          "base_uri": "https://localhost:8080/",
          "height": 35
        },
        "id": "1ajldcslbyl_",
        "outputId": "9fe9d0d6-3bb5-4d43-a920-d611f59cb8bc"
      },
      "execution_count": null,
      "outputs": [
        {
          "output_type": "execute_result",
          "data": {
            "text/plain": [
              "'ACCGGGTTTT'"
            ],
            "application/vnd.google.colaboratory.intrinsic+json": {
              "type": "string"
            }
          },
          "metadata": {},
          "execution_count": 27
        }
      ]
    },
    {
      "cell_type": "code",
      "source": [
        "# BA1D\n",
        "\n",
        "def occurances(dna, pattern):\n",
        "  d_len = len(dna)\n",
        "  p_len = len(pattern)\n",
        "  return [i for i in range(d_len - p_len + 1) if dna[i:i+p_len] == pattern]\n",
        "\n",
        "pattern = 'ATAT'\n",
        "dna = 'GATATATGCATATACTT'\n",
        "occurances(dna, pattern)\n"
      ],
      "metadata": {
        "colab": {
          "base_uri": "https://localhost:8080/"
        },
        "id": "37F1b2zwfM9g",
        "outputId": "295dc8a5-2bfa-4a40-e8eb-a1c2c475c6b2"
      },
      "execution_count": null,
      "outputs": [
        {
          "output_type": "execute_result",
          "data": {
            "text/plain": [
              "[1, 3, 9]"
            ]
          },
          "metadata": {},
          "execution_count": 38
        }
      ]
    },
    {
      "cell_type": "code",
      "source": [
        "# BA1E\n",
        "from collections import Counter\n",
        "def clumps(dna, k, L, t):\n",
        "  res = []\n",
        "  for i in range(len(dna) - L + 1):\n",
        "    clump_str = dna[i:i+L]\n",
        "    possible_clumps_kmer = Counter([clump_str[i:i+k] for i in range(len(clump_str) - k + 1)]).most_common()\n",
        "    kmers = [kmer[0] for kmer in possible_clumps_kmer if kmer[1] >= t]\n",
        "    res.extend(kmers)\n",
        "  return set(res)\n",
        "\n",
        "dna = 'CGGACTCGACAGATGTGAAGAAATGTGAAGACTGAGTGAAGAGAAGAGGAAACACGACACGACATTGCGACATAATGTACGAATGTAATGTGCCTATGGC'\n",
        "k, L, t = 5, 75, 4\n",
        "\n",
        "# dna = 'TGTGGTGTGCGTGTGAGGGGG'\n",
        "# k, L, t = 3, 12, 3\n",
        "clumps(dna, k, L, t)\n"
      ],
      "metadata": {
        "colab": {
          "base_uri": "https://localhost:8080/"
        },
        "id": "g3e337yjip4c",
        "outputId": "53a7443d-5de3-41a7-887e-5f1c51d6a671"
      },
      "execution_count": null,
      "outputs": [
        {
          "output_type": "execute_result",
          "data": {
            "text/plain": [
              "{'AATGT', 'CGACA', 'GAAGA'}"
            ]
          },
          "metadata": {},
          "execution_count": 9
        }
      ]
    },
    {
      "cell_type": "code",
      "source": [
        "# BA1F\n",
        "import numpy as np\n",
        "import matplotlib.pyplot as plt\n",
        "\n",
        "def skew(dna):\n",
        "  map = {'A':0, 'T':0, 'G': 1, 'C': -1}\n",
        "  value = np.array([0])\n",
        "  value = np.append(value, [map[x] for x in dna], axis=0)\n",
        "  y = np.cumsum(value)\n",
        "\n",
        "  plt.plot(y)\n",
        "  plt.xticks(range(len(dna)), dna)\n",
        "  plt.grid()\n",
        "  plt.show()\n",
        "  return np.where(y == y.min())\n",
        "\n",
        "dna = 'CCTATCGGTGGATTAGCATGTCCCTGTACGTTTCGCCGCGAACTAGTTCACACGGCTTGATGGCAAATGGTTTTTCCGGCGACCGTAATCGTCCACCGAG'\n",
        "skew(dna)"
      ],
      "metadata": {
        "colab": {
          "base_uri": "https://localhost:8080/",
          "height": 282
        },
        "id": "YfqtXkIFnkY3",
        "outputId": "7f9340f0-b500-42a3-f745-cc6aa9ca8a3c"
      },
      "execution_count": null,
      "outputs": [
        {
          "output_type": "display_data",
          "data": {
            "text/plain": [
              "<Figure size 432x288 with 1 Axes>"
            ],
            "image/png": "[encoded data removed]"
          },
          "metadata": {
            "needs_background": "light"
          }
        },
        {
          "output_type": "execute_result",
          "data": {
            "text/plain": [
              "(array([53, 97]),)"
            ]
          },
          "metadata": {},
          "execution_count": 62
        }
      ]
    },
    {
      "cell_type": "code",
      "source": [
        "# BA1G\n",
        "\n",
        "def hamming_distance(dna1, dna2):\n",
        "  return sum([1 if dna1[i] != dna2[i] else 0 for i in range(len(dna1))])\n",
        "\n",
        "dna1, dna2 = 'GGGCCGTTGGT', 'GGACCGTTGAC'\n",
        "hamming_distance(dna1, dna2)"
      ],
      "metadata": {
        "id": "mY0txMMK6-94",
        "colab": {
          "base_uri": "https://localhost:8080/"
        },
        "outputId": "ede96681-a275-4dc4-a1f2-96849b0d6f6f"
      },
      "execution_count": null,
      "outputs": [
        {
          "output_type": "execute_result",
          "data": {
            "text/plain": [
              "3"
            ]
          },
          "metadata": {},
          "execution_count": 2
        }
      ]
    },
    {
      "cell_type": "code",
      "source": [
        "# BA1H\n",
        "\n",
        "def occurences_pattern(kmer, dna, d):\n",
        "  k_len = len(kmer)\n",
        "  d_len = len(dna)\n",
        "  return [i for i in range(d_len - k_len + 1) if hamming_distance(kmer, dna[i:i+k_len]) <= d]\n",
        "\n",
        "kmer = 'ATTCTGGA'\n",
        "dna = 'CGCCCGAATCCAGAACGCATTCCCATATTTCGGGACCACTGGCCTCCACGGTACGGACGTCAATCAAATGCCTAGCGGCTTGTGGTTTCTCCTACGCTCC'\n",
        "d = 3\n",
        "\n",
        "occurences_pattern(kmer, dna, d)"
      ],
      "metadata": {
        "colab": {
          "base_uri": "https://localhost:8080/"
        },
        "id": "hOAESGBdf0ZF",
        "outputId": "a1930a3f-a99f-4c41-efcb-ef3d0ff767b7"
      },
      "execution_count": null,
      "outputs": [
        {
          "output_type": "execute_result",
          "data": {
            "text/plain": [
              "[6, 7, 26, 27, 78]"
            ]
          },
          "metadata": {},
          "execution_count": 33
        }
      ]
    },
    {
      "cell_type": "code",
      "source": [
        "# BA1I\n",
        "from collections import Counter\n",
        "\n",
        "def count(dna, kmer, d):\n",
        "  return len(occurences_pattern(kmer, dna, d))\n",
        "\n",
        "def frequent_word_with_mismatches(dna, k, d):\n",
        "  kmers = set([dna[i:i+k] for i in range(len(dna) - k + 1)])\n",
        "  counts = [count(dna, kmer, d) for kmer in kmers]\n",
        "  mp = {k:v for k, v in zip(kmers, counts)}\n",
        "  kmers_count = Counter(mp).most_common()\n",
        "  return [kmer[0] for kmer in kmers_count if kmers_count[0][1] == kmer[1]]\n",
        "\n",
        "dna = 'ACGTTGCATGTCGCATGATGCATGAGAGCT'\n",
        "k, d = 4, 1\n",
        "frequent_word_with_mismatches(dna, k, d)"
      ],
      "metadata": {
        "colab": {
          "base_uri": "https://localhost:8080/"
        },
        "id": "BuD5cfbShHWj",
        "outputId": "93da1a94-79ff-4bfe-f349-df9405be0a0e"
      },
      "execution_count": null,
      "outputs": [
        {
          "output_type": "execute_result",
          "data": {
            "text/plain": [
              "['ATGT', 'ATGC', 'GATG']"
            ]
          },
          "metadata": {},
          "execution_count": 26
        }
      ]
    },
    {
      "cell_type": "code",
      "source": [
        "# BA1J\n",
        "\n",
        "from collections import Counter\n",
        "import numpy as np\n",
        "\n",
        "def count(dna, kmer, d):\n",
        "  return len(occurences_pattern(kmer, dna, d))\n",
        "\n",
        "def frequent_word_with_mismatches_include_reverse_complement(dna, k, d):\n",
        "  kmers = set([dna[i:i+k] for i in range(len(dna) - k + 1)])\n",
        "  counts = [count(dna, kmer, d) + count(dna, reverse_complement(kmer), d) for kmer in kmers]\n",
        "  mp = {k:v for k, v in zip(kmers, counts)}\n",
        "  kmers_count = Counter(mp).most_common()\n",
        "  res = [(kmer[0], reverse_complement(kmer[0])) for kmer in kmers_count if kmers_count[0][1] == kmer[1]]\n",
        "  return np.array(res).flatten()\n",
        "\n",
        "dna = 'ACGTTGCATGTCGCATGATGCATGAGAGCT'\n",
        "k, d = 4, 1\n",
        "frequent_word_with_mismatches_include_reverse_complement(dna, k, d)"
      ],
      "metadata": {
        "colab": {
          "base_uri": "https://localhost:8080/"
        },
        "id": "kf6PBcXBo6ff",
        "outputId": "2ea59cec-792e-4263-b23b-2aa455447dc6"
      },
      "execution_count": null,
      "outputs": [
        {
          "output_type": "execute_result",
          "data": {
            "text/plain": [
              "array(['ATGT', 'ACAT'], dtype='<U4')"
            ]
          },
          "metadata": {},
          "execution_count": 46
        }
      ]
    },
    {
      "cell_type": "code",
      "source": [
        "# BA1K\n",
        "\n",
        "import itertools\n",
        "\n",
        "def count_overlapping(dna, kmer):\n",
        "  d_len = len(dna)\n",
        "  k_len = len(kmer)\n",
        "  return sum([1 if dna[i:i+k_len] == kmer else 0 for i in range(d_len-k_len + 1)])\n",
        "\n",
        "def frequency_array(dna, k):\n",
        "  kmers = [''.join(kmer) for kmer in itertools.product('ACGT', repeat=k)]\n",
        "  return [count_overlapping(dna, kmer) for kmer in kmers]\n",
        "\n",
        "dna = 'ACGCGGCTCTGAAA'\n",
        "k = 2\n",
        "frequency_array(dna, k)"
      ],
      "metadata": {
        "colab": {
          "base_uri": "https://localhost:8080/"
        },
        "id": "KIjhGk9Fur6S",
        "outputId": "1b4984d4-76b0-4f4e-801a-0943093293b4"
      },
      "execution_count": null,
      "outputs": [
        {
          "output_type": "execute_result",
          "data": {
            "text/plain": [
              "[2, 1, 0, 0, 0, 0, 2, 2, 1, 2, 1, 0, 0, 1, 1, 0]"
            ]
          },
          "metadata": {},
          "execution_count": 56
        }
      ]
    },
    {
      "cell_type": "code",
      "source": [
        "# BA1L\n",
        "\n",
        "def symbolToNumber(symbol):\n",
        "  mp = {'A':0, 'C':1, 'G':2, 'T':3}\n",
        "  return mp[symbol]\n",
        "\n",
        "def dnaToNumber(dna):\n",
        "  if len(dna) == 0:\n",
        "      return 0\n",
        "  symbol = dna[-1]\n",
        "  prefix = dna[:-1]\n",
        "  return 4 * dnaToNumber(prefix) + symbolToNumber(symbol)\n",
        "\n",
        "dna = 'AGT'\n",
        "dnaToNumber(dna)"
      ],
      "metadata": {
        "colab": {
          "base_uri": "https://localhost:8080/"
        },
        "id": "h4eN1ozE04ZE",
        "outputId": "7d623508-3d6f-40be-e0df-2cb16120f1cf"
      },
      "execution_count": null,
      "outputs": [
        {
          "output_type": "execute_result",
          "data": {
            "text/plain": [
              "11"
            ]
          },
          "metadata": {},
          "execution_count": 61
        }
      ]
    },
    {
      "cell_type": "code",
      "source": [
        "# BA1M\n",
        "\n",
        "def numberToSymbol(number):\n",
        "  mp = {0:'A', 1:'C', 2: 'G', 3:'T'}\n",
        "  return mp[number]\n",
        "\n",
        "def numberToDna(number, k):\n",
        "  if k == 1:\n",
        "    return numberToSymbol(number)\n",
        "  return numberToDna(number//4, k-1) + numberToSymbol(number % 4)\n",
        "\n",
        "number = 45\n",
        "k = 4\n",
        "numberToDna(number, k)"
      ],
      "metadata": {
        "colab": {
          "base_uri": "https://localhost:8080/",
          "height": 35
        },
        "id": "WgNPyiW8EmCJ",
        "outputId": "73ffb7c6-5f32-46d4-ceda-e2e6c73f8223"
      },
      "execution_count": null,
      "outputs": [
        {
          "output_type": "execute_result",
          "data": {
            "text/plain": [
              "'AGTC'"
            ],
            "application/vnd.google.colaboratory.intrinsic+json": {
              "type": "string"
            }
          },
          "metadata": {},
          "execution_count": 63
        }
      ]
    },
    {
      "cell_type": "code",
      "source": [
        "# BA1N\n",
        "\n",
        "import itertools\n",
        "def dNeighborhood(dna, d):\n",
        "  kmers = [''.join(kmer) for kmer in itertools.product('ACGT', repeat=len(dna))]\n",
        "  return [kmer for kmer in kmers if hamming_distance(dna, kmer) <= d]\n",
        "\n",
        "dna = 'ACG'\n",
        "d = 1\n",
        "dNeighborhood(dna, d)"
      ],
      "metadata": {
        "colab": {
          "base_uri": "https://localhost:8080/"
        },
        "id": "1vJEJc2NFYEF",
        "outputId": "8621f8d5-ee94-45fb-ded6-8446d71f51ff"
      },
      "execution_count": null,
      "outputs": [
        {
          "output_type": "execute_result",
          "data": {
            "text/plain": [
              "['AAG', 'ACA', 'ACC', 'ACG', 'ACT', 'AGG', 'ATG', 'CCG', 'GCG', 'TCG']"
            ]
          },
          "metadata": {},
          "execution_count": 69
        }
      ]
    },
    {
      "cell_type": "code",
      "source": [
        "# BA2A\n",
        "\n",
        "import itertools\n",
        "\n",
        "def all_possible_pattern_from_kmer(kmer, d):\n",
        "  kmers = [''.join(k) for k in itertools.product('ACGT', repeat=len(kmer))]\n",
        "  return [k for k in kmers if hamming_distance(k, kmer) <=d]\n",
        "\n",
        "def kmer_exist_in_dna(kmer, dna, d):\n",
        "  return any(hamming_distance(kmer, dna[i:i+len(kmer)]) <= d for i in range(len(dna)-len(kmer) + 1))\n",
        "\n",
        "def motifEnumeration(dna_list, k, d):\n",
        "  kmers = {dna_list[i][j:j+k] for i in range(len(dna_list)) for j in range(len(dna_list[i])-k+1)}\n",
        "  res = set()\n",
        "  for kmer in kmers:\n",
        "    patterns = all_possible_pattern_from_kmer(kmer, d)\n",
        "    for pattern in patterns:\n",
        "      if(all(kmer_exist_in_dna(pattern, dna, d) for dna in dna_list)):\n",
        "        res.add(pattern)\n",
        "  return res\n",
        "\n",
        "dna_list = '''ATTTGGC\n",
        "TGCCTTA\n",
        "CGGTATC\n",
        "GAAAATT\n",
        "'''.splitlines()\n",
        "k, d = 3, 1\n",
        "motifEnumeration(dna_list, k, d)"
      ],
      "metadata": {
        "colab": {
          "base_uri": "https://localhost:8080/"
        },
        "id": "-52sYsMOROtE",
        "outputId": "4ce000c9-8787-4f80-a84f-ee8a51465023"
      },
      "execution_count": null,
      "outputs": [
        {
          "output_type": "execute_result",
          "data": {
            "text/plain": [
              "{'ATA', 'ATT', 'GTT', 'TTT'}"
            ]
          },
          "metadata": {},
          "execution_count": 109
        }
      ]
    },
    {
      "cell_type": "code",
      "source": [
        "# BA2B\n",
        "def distance(dna, pattern):\n",
        "  return min(hamming_distance(dna[i:i+len(pattern)], pattern) for i in range(len(dna) - len(pattern) + 1))\n",
        "\n",
        "def distanceBetweenPatternAndString(pattern, dna_list):\n",
        "  return sum(distance(dna, pattern) for dna in dna_list)\n",
        "\n",
        "def median_string(dna_list, k):\n",
        "  kmers = [''.join(p) for p in itertools.product(\"ACGT\", repeat = k)]\n",
        "  min = 99999999\n",
        "  kmer = None\n",
        "  for kmer in kmers:\n",
        "    d = sum(distance(dna, kmer) for dna in dna_list)\n",
        "    if d < min:\n",
        "      min = d\n",
        "      motif = kmer\n",
        "  return kmer\n",
        "\n",
        "dna_list = '''AAATTGACGCAT\n",
        "GACGACCACGTT\n",
        "CGTCAGCGCCTG\n",
        "GCTGAGCACCGG\n",
        "AGTACGGGACAG\n",
        "'''.splitlines()\n",
        "k = 3\n",
        "median_string(dna_list, k)"
      ],
      "metadata": {
        "colab": {
          "base_uri": "https://localhost:8080/",
          "height": 87
        },
        "id": "5IZ-G0ASgXoR",
        "outputId": "283adfb0-5a71-4c90-fad7-7a064683e404"
      },
      "execution_count": null,
      "outputs": [
        {
          "output_type": "stream",
          "name": "stdout",
          "text": [
            "ACG\n",
            "GAC\n",
            "2\n"
          ]
        },
        {
          "output_type": "execute_result",
          "data": {
            "text/plain": [
              "'TTT'"
            ],
            "application/vnd.google.colaboratory.intrinsic+json": {
              "type": "string"
            }
          },
          "metadata": {},
          "execution_count": 126
        }
      ]
    },
    {
      "cell_type": "code",
      "source": [
        "# BA2C\n",
        "\n",
        "def probability(kmer, profile):\n",
        "  map = {'A':0, 'C':1, 'G':2, 'T':3}\n",
        "  return np.prod([profile[map[n]][i] for i, n in enumerate(kmer)])\n",
        "\n",
        "def profile_most_probability_kmer(dna, k, profile):\n",
        "  kmers = [dna[i:i+k] for i in range(len(dna) - k + 1)]\n",
        "  return max([(probability(kmer, profile), kmer) for kmer in kmers])[1]\n",
        "\n",
        "k = 5\n",
        "seq = 'ACCTGTTTATTGCCTAAGTTCCGAACAAACCCAATATAGCCCGAGGGCCT'\n",
        "profile = [[0.2, 0.2, 0.3, 0.2, 0.3],[0.4, 0.3, 0.1, 0.5, 0.1], [0.3, 0.3, 0.5, 0.2, 0.4], [0.1, 0.2, 0.1, 0.1, 0.2]]\n",
        "profile_most_probability_kmer(seq, k, profile)"
      ],
      "metadata": {
        "colab": {
          "base_uri": "https://localhost:8080/",
          "height": 35
        },
        "id": "pk030fJin7IC",
        "outputId": "bb93445e-6fd5-49f8-e1af-b7317387de6b"
      },
      "execution_count": null,
      "outputs": [
        {
          "output_type": "execute_result",
          "data": {
            "text/plain": [
              "'CCGAG'"
            ],
            "application/vnd.google.colaboratory.intrinsic+json": {
              "type": "string"
            }
          },
          "metadata": {},
          "execution_count": 132
        }
      ]
    },
    {
      "cell_type": "code",
      "source": [
        "# BA2F\n",
        "import random\n",
        "\n",
        "def randomMotifs(dna_list, k, t):\n",
        "  motifs = []\n",
        "  for dna in dna_list:\n",
        "    index = random.randint(0, len(dna) - k)\n",
        "    motifs.append(dna[index:index+k])\n",
        "  return motifs\n",
        "\n",
        "def get_profile(motifs, k):\n",
        "  profile = []\n",
        "  for i in range(k):\n",
        "    for j in range(len(motifs)):\n",
        "      if j == 0:\n",
        "        profile.append({'A':1, 'C':1, 'G':1, 'T':1})\n",
        "      profile[i][motifs[j][i]] += 1\n",
        "  return profile\n",
        "\n",
        "\n",
        "def randomMotifSearch(dna_list, k, t):\n",
        "  motifs = randomMotifs(dna_list, k, t)\n",
        "  best_motifs = list(motifs)\n",
        "\n",
        "  print(motifs)\n",
        "  profile = get_profile(motifs, k)\n",
        "  print(profile)\n",
        "\n",
        "\n",
        "k, t = 8, 5\n",
        "dna_list = '''CGCCCCTCTCGGGGGTGTTCAGTAAACGGCCA\n",
        "GGGCGAGGTATGTGTAAGTGCCAAGGTGCCAG\n",
        "TAGTACCGAGACCGAAAGAAGTATACAGGCGT\n",
        "TAGATCAAGTTTCAGGTGCACGTCGGTGAACC\n",
        "AATCCACCAGCTCCACGTGCAATGTTGGCCTA\n",
        "'''.splitlines()\n",
        "\n",
        "randomMotifSearch(dna_list, k, t)\n"
      ],
      "metadata": {
        "colab": {
          "base_uri": "https://localhost:8080/"
        },
        "id": "3Vwld_dMuW72",
        "outputId": "d3b3f2ec-60f9-4cc8-d1f0-e65e955b2047"
      },
      "execution_count": null,
      "outputs": [
        {
          "output_type": "stream",
          "name": "stdout",
          "text": [
            "['AGTAAACG', 'CCAAGGTG', 'GAGACCGA', 'GATCAAGT', 'ACCAGCTC']\n",
            "[{'A': 3, 'C': 2, 'G': 3, 'T': 1}, {'A': 3, 'C': 3, 'G': 2, 'T': 1}, {'A': 2, 'C': 2, 'G': 2, 'T': 3}, {'A': 5, 'C': 2, 'G': 1, 'T': 1}, {'A': 3, 'C': 2, 'G': 3, 'T': 1}, {'A': 3, 'C': 3, 'G': 2, 'T': 1}, {'A': 1, 'C': 2, 'G': 3, 'T': 3}, {'A': 2, 'C': 2, 'G': 3, 'T': 2}]\n"
          ]
        }
      ]
    },
    {
      "cell_type": "code",
      "source": [
        "# BA2H\n",
        "\n",
        "def distance(dna, pattern):\n",
        "  return min(hamming_distance(dna[i:i+len(pattern)], pattern) for i in range(len(dna) - len(pattern) + 1))\n",
        "\n",
        "def distanceBetweenPatternAndString(pattern, dna_list):\n",
        "  return sum(distance(dna, pattern) for dna in dna_list)\n",
        "\n",
        "pattern = 'AAA'\n",
        "dna_list = '''TTACCTTAAC\n",
        "GATATCTGTC\n",
        "ACGGCGTTCG\n",
        "CCCTAAAGAG\n",
        "CGTCAGAGGT\n",
        "'''.splitlines()\n",
        "\n",
        "distanceBetweenPatternAndString(pattern, dna_list)\n",
        "\n"
      ],
      "metadata": {
        "colab": {
          "base_uri": "https://localhost:8080/"
        },
        "id": "zM-bOj1HhbQC",
        "outputId": "427bcb53-bfc0-4bef-ffde-dbd22525ca38"
      },
      "execution_count": null,
      "outputs": [
        {
          "output_type": "execute_result",
          "data": {
            "text/plain": [
              "5"
            ]
          },
          "metadata": {},
          "execution_count": 117
        }
      ]
    },
    {
      "cell_type": "code",
      "source": [
        "# BA3A\n",
        "\n",
        "def kmerComposition(dna, k):\n",
        "  kmers = [dna[i:i+k] for i in range(len(dna) - k + 1)]\n",
        "  kmers.sort()\n",
        "  return kmers\n",
        "\n",
        "k = 5\n",
        "dna = 'CAATCCAAC'\n",
        "kmerComposition(dna, k)"
      ],
      "metadata": {
        "colab": {
          "base_uri": "https://localhost:8080/"
        },
        "id": "qZzl5nMk0TFb",
        "outputId": "79134644-0855-4116-c0d3-d90bfe6b54c6"
      },
      "execution_count": null,
      "outputs": [
        {
          "output_type": "execute_result",
          "data": {
            "text/plain": [
              "['AATCC', 'ATCCA', 'CAATC', 'CCAAC', 'TCCAA']"
            ]
          },
          "metadata": {},
          "execution_count": 142
        }
      ]
    },
    {
      "cell_type": "code",
      "source": [
        "# BA3B\n",
        "\n",
        "def reconstructString(dna_list):\n",
        "  return ''.join([dna if i == 0 else dna[-1] for i, dna in enumerate(dna_list)])\n",
        "\n",
        "dna_list = '''ACCGA\n",
        "CCGAA\n",
        "CGAAG\n",
        "GAAGC\n",
        "AAGCT\n",
        "'''.splitlines()\n",
        "\n",
        "reconstructString(dna_list)\n"
      ],
      "metadata": {
        "colab": {
          "base_uri": "https://localhost:8080/",
          "height": 35
        },
        "id": "N-ITJM1X8v0r",
        "outputId": "7fee03ac-73eb-4de1-e7be-193be16988aa"
      },
      "execution_count": null,
      "outputs": [
        {
          "output_type": "execute_result",
          "data": {
            "text/plain": [
              "'ACCGAAGCT'"
            ],
            "application/vnd.google.colaboratory.intrinsic+json": {
              "type": "string"
            }
          },
          "metadata": {},
          "execution_count": 148
        }
      ]
    },
    {
      "cell_type": "code",
      "source": [
        "a = 'AABBCC'\n",
        "a[:-1]"
      ],
      "metadata": {
        "colab": {
          "base_uri": "https://localhost:8080/",
          "height": 35
        },
        "id": "XmpPPXkb_bun",
        "outputId": "ea0b6b38-a5e1-4968-975f-582e63446ba2"
      },
      "execution_count": null,
      "outputs": [
        {
          "output_type": "execute_result",
          "data": {
            "text/plain": [
              "'AABBC'"
            ],
            "application/vnd.google.colaboratory.intrinsic+json": {
              "type": "string"
            }
          },
          "metadata": {},
          "execution_count": 151
        }
      ]
    },
    {
      "cell_type": "code",
      "source": [
        "# BA3C\n",
        "\n",
        "def constructOverlapGraph(dna_list):\n",
        "  for dna in dna_list:\n",
        "    for dna1 in dna_list:\n",
        "      if dna[1:] == dna1[:-1]:\n",
        "        print('->'.join([dna, dna1]))\n",
        "\n",
        "dna_list = '''ATGCG\n",
        "GCATG\n",
        "CATGC\n",
        "AGGCA\n",
        "GGCAT\n",
        "'''.splitlines()\n",
        "\n",
        "constructOverlapGraph(dna_list)"
      ],
      "metadata": {
        "colab": {
          "base_uri": "https://localhost:8080/"
        },
        "id": "dLJhVDOJ8v7D",
        "outputId": "5b098370-4b7f-41c1-8ca3-f718b61b14eb"
      },
      "execution_count": null,
      "outputs": [
        {
          "output_type": "stream",
          "name": "stdout",
          "text": [
            "GCATG->CATGC\n",
            "CATGC->ATGCG\n",
            "AGGCA->GGCAT\n",
            "GGCAT->GCATG\n"
          ]
        }
      ]
    },
    {
      "cell_type": "code",
      "source": [
        "# BA3D\n",
        "\n",
        "def construct_de_bruijn_graph(kmers):\n",
        "  graph = {}\n",
        "  for kmer in kmers:\n",
        "    prefix = kmer[:-1]\n",
        "    suffix = kmer[1:]\n",
        "    if prefix not in graph:\n",
        "      graph[prefix] = []\n",
        "    graph[prefix].append(suffix)\n",
        "  keys = graph.keys()\n",
        "  for key in sorted(keys):\n",
        "    adj = ','.join(sorted(graph[key]))\n",
        "    print('{0} -> {1}'.format(key, adj))\n",
        "\n",
        "k = 4\n",
        "dna = 'AAGATTCTCTAC'\n",
        "construct_de_bruijn_graph(kmerComposition(dna, k))\n"
      ],
      "metadata": {
        "colab": {
          "base_uri": "https://localhost:8080/"
        },
        "id": "ZBmA0QqJAOfh",
        "outputId": "d9080fa7-172b-47ae-9716-ae9c686602c7"
      },
      "execution_count": null,
      "outputs": [
        {
          "output_type": "stream",
          "name": "stdout",
          "text": [
            "AAG -> AGA\n",
            "AGA -> GAT\n",
            "ATT -> TTC\n",
            "CTA -> TAC\n",
            "CTC -> TCT\n",
            "GAT -> ATT\n",
            "TCT -> CTA,CTC\n",
            "TTC -> TCT\n"
          ]
        }
      ]
    },
    {
      "cell_type": "code",
      "source": [
        "# BA3E\n",
        "\n",
        "def construct_de_bruijn_graph(kmers):\n",
        "  graph = {}\n",
        "  for kmer in kmers:\n",
        "    prefix = kmer[:-1]\n",
        "    suffix = kmer[1:]\n",
        "    if prefix not in graph:\n",
        "      graph[prefix] = []\n",
        "    graph[prefix].append(suffix)\n",
        "  keys = graph.keys()\n",
        "  for key in sorted(keys):\n",
        "    adj = ','.join(sorted(graph[key]))\n",
        "    print('{0} -> {1}'.format(key, adj))\n",
        "\n",
        "\n",
        "kmers = '''GAGG\n",
        "CAGG\n",
        "GGGG\n",
        "GGGA\n",
        "CAGG\n",
        "AGGG\n",
        "GGAG\n",
        "'''.splitlines()\n",
        "construct_de_bruijn_graph(kmers)\n"
      ],
      "metadata": {
        "colab": {
          "base_uri": "https://localhost:8080/"
        },
        "id": "7dLkd0CoCM2A",
        "outputId": "a0dc962f-6ef4-4e8b-8588-38751ffc107e"
      },
      "execution_count": null,
      "outputs": [
        {
          "output_type": "stream",
          "name": "stdout",
          "text": [
            "AGG -> GGG\n",
            "CAG -> AGG,AGG\n",
            "GAG -> AGG\n",
            "GGA -> GAG\n",
            "GGG -> GGA,GGG\n"
          ]
        }
      ]
    },
    {
      "cell_type": "code",
      "source": [
        "# BA4A\n",
        "\n",
        "table = ''' UUU F      CUU L      AUU I      GUU V\n",
        "            UUC F      CUC L      AUC I      GUC V\n",
        "            UUA L      CUA L      AUA I      GUA V\n",
        "            UUG L      CUG L      AUG M      GUG V\n",
        "            UCU S      CCU P      ACU T      GCU A\n",
        "            UCC S      CCC P      ACC T      GCC A\n",
        "            UCA S      CCA P      ACA T      GCA A\n",
        "            UCG S      CCG P      ACG T      GCG A\n",
        "            UAU Y      CAU H      AAU N      GAU D\n",
        "            UAC Y      CAC H      AAC N      GAC D\n",
        "            UAA Stop   CAA Q      AAA K      GAA E\n",
        "            UAG Stop   CAG Q      AAG K      GAG E\n",
        "            UGU C      CGU R      AGU S      GGU G\n",
        "            UGC C      CGC R      AGC S      GGC G\n",
        "            UGA Stop   CGA R      AGA R      GGA G\n",
        "            UGG W      CGG R      AGG R      GGG G'''.split()\n",
        "\n",
        "codon_table = dict(zip(table[0::2],table[1::2]))\n",
        "stop_codons = ['UAA', 'UAG', 'UGA']\n",
        "\n",
        "def rnaToAminoAcid(rna):\n",
        "  k = 3\n",
        "  subs = [rna[i:i+k]for i in range(0, len(rna) - k + 1, k)]\n",
        "  res = []\n",
        "  for sub in subs:\n",
        "    if sub in stop_codons:\n",
        "      break\n",
        "    res.append(codon_table[sub])\n",
        "  return ''.join(res)\n",
        "\n",
        "\n",
        "\n",
        "rna = 'AUGGCCAUGGCGCCCAGAACUGAGAUCAAUAGUACCCGUAUUAACGGGUGA'\n",
        "rnaToAminoAcid(rna)\n"
      ],
      "metadata": {
        "colab": {
          "base_uri": "https://localhost:8080/",
          "height": 35
        },
        "id": "Gi8uMJSSCbUA",
        "outputId": "d8fc0dcf-f262-41b8-81e5-159add4438fa"
      },
      "execution_count": null,
      "outputs": [
        {
          "output_type": "execute_result",
          "data": {
            "text/plain": [
              "'MAMAPRTEINSTRING'"
            ],
            "application/vnd.google.colaboratory.intrinsic+json": {
              "type": "string"
            }
          },
          "metadata": {},
          "execution_count": 165
        }
      ]
    },
    {
      "cell_type": "code",
      "source": [
        "# BA4B\n",
        "\n",
        "def dna_to_rna(dna):\n",
        "  return ''.join(['U' if d == 'T' else d for d in dna])\n",
        "\n",
        "def isExistAminoAcid(mer, amino_acid):\n",
        "  rna = dna_to_rna(mer)\n",
        "  return rnaToAminoAcid(rna) == amino_acid\n",
        "\n",
        "def substring_amino_acid(dna, amino_acid):\n",
        "  res = []\n",
        "  amino_acid_len = len(amino_acid) * 3\n",
        "  for i in range(len(dna) - amino_acid_len + 1):\n",
        "    mer = dna[i:i+amino_acid_len]\n",
        "    reverse_mer = reverse_complement(mer)\n",
        "    if(isExistAminoAcid(mer, amino_acid) or isExistAminoAcid(reverse_mer, amino_acid)):\n",
        "      res.append(mer)\n",
        "  return res\n",
        "\n",
        "\n",
        "dna = 'ATGGCCATGGCCCCCAGAACTGAGATCAATAGTACCCGTATTAACGGGTGA'\n",
        "amino_acid = 'MA'\n",
        "substring_amino_acid(dna, amino_acid)\n"
      ],
      "metadata": {
        "colab": {
          "base_uri": "https://localhost:8080/"
        },
        "id": "xfZQlIBmHGWY",
        "outputId": "b96a2295-52b8-4a70-b071-ecd1a058e9d0"
      },
      "execution_count": null,
      "outputs": [
        {
          "output_type": "execute_result",
          "data": {
            "text/plain": [
              "['ATGGCC', 'GGCCAT', 'ATGGCC']"
            ]
          },
          "metadata": {},
          "execution_count": 169
        }
      ]
    },
    {
      "cell_type": "code",
      "source": [
        "# BA4C\n",
        "\n",
        "massTable = '''\n",
        "G 57\n",
        "A 71\n",
        "S 87\n",
        "P 97\n",
        "V 99\n",
        "T 101\n",
        "C 103\n",
        "I 113\n",
        "L 113\n",
        "N 114\n",
        "D 115\n",
        "K 128\n",
        "Q 128\n",
        "E 129\n",
        "M 131\n",
        "H 137\n",
        "F 147\n",
        "R 156\n",
        "Y 163\n",
        "W 186'''.split()\n",
        "massTable = dict(zip(massTable[0::2],massTable[1::2]))\n",
        "for mass in massTable:\n",
        "    massTable[mass] = int(massTable[mass])\n",
        "\n",
        "def calculate_sum(peptide):\n",
        "    val = 0\n",
        "    for i in range(len(peptide)):\n",
        "        val += massTable[peptide[i]]\n",
        "    return val\n",
        "def theoretical_spectrum(peptide):\n",
        "    cyclic_peptide = peptide + peptide[:-1]\n",
        "    res = []\n",
        "    res.append(0)\n",
        "    for i in range(1,len(peptide)):\n",
        "      for j in range(len(peptide)):\n",
        "          res.append(calculate_sum(cyclic_peptide[j:j+i]))\n",
        "    res.append(calculate_sum(peptide))\n",
        "    res.sort()\n",
        "    return res\n",
        "peptide = \"LEQN\"\n",
        "print(theoretical_spectrum(peptide))"
      ],
      "metadata": {
        "colab": {
          "base_uri": "https://localhost:8080/"
        },
        "id": "lx0IGB4TKrPa",
        "outputId": "65d1afc8-fc48-4cf1-b70d-d4571efc0d7c"
      },
      "execution_count": null,
      "outputs": [
        {
          "output_type": "stream",
          "name": "stdout",
          "text": [
            "[0, 113, 114, 128, 129, 227, 242, 242, 257, 355, 356, 370, 371, 484]\n"
          ]
        }
      ]
    },
    {
      "cell_type": "code",
      "source": [
        "# BA4D\n",
        "\n",
        "def total_peptide(mass):\n",
        "    values = list(set(massTable.values()))\n",
        "    masses = [0]*(mass+1)\n",
        "    masses[0] = 1\n",
        "    for i in range(mass + 1):\n",
        "      for value in values:\n",
        "        if i >= value:\n",
        "          masses[i] += masses[i - value]\n",
        "    return masses,masses[mass]\n",
        "mass = 1024\n",
        "masses, ans = total_peptide(mass)\n",
        "print(ans)\n",
        "\n"
      ],
      "metadata": {
        "colab": {
          "base_uri": "https://localhost:8080/"
        },
        "id": "iRf8_Z58MBS9",
        "outputId": "95c78070-573b-4b93-967b-e80a6080e48e"
      },
      "execution_count": null,
      "outputs": [
        {
          "output_type": "stream",
          "name": "stdout",
          "text": [
            "14712706211\n"
          ]
        }
      ]
    },
    {
      "cell_type": "code",
      "source": [
        "axis = []\n",
        "import matplotlib.pyplot as plt\n",
        "import math\n",
        "for i in range(mass+1):\n",
        "    axis.append(i)\n",
        "for i in range(len(masses)):\n",
        "    if masses[i]>0:\n",
        "        masses[i] = math.log2(masses[i])\n",
        "plt.plot(axis,masses)\n",
        "plt.show()"
      ],
      "metadata": {
        "colab": {
          "base_uri": "https://localhost:8080/",
          "height": 267
        },
        "id": "nY6DvEdGMSFB",
        "outputId": "6977a3ac-f84e-4f4a-8edd-4df9440ea6d6"
      },
      "execution_count": null,
      "outputs": [
        {
          "output_type": "display_data",
          "data": {
            "text/plain": [
              "<Figure size 432x288 with 1 Axes>"
            ],
            "image/png": "[encoded data removed]"
          },
          "metadata": {
            "needs_background": "light"
          }
        }
      ]
    },
    {
      "cell_type": "code",
      "source": [
        "# BA4E\n",
        "\n",
        "import itertools\n",
        "def Cyclopeptide_Sequencing_Problem(spec):\n",
        "    mass = 0\n",
        "    result=[]\n",
        "    for i in range(1,len(spec)):\n",
        "        mass += spec[i]\n",
        "        result.append(spec[i])\n",
        "        if mass==spec[len(spec)-1]:\n",
        "            break\n",
        "    result = list(itertools.permutations(result))\n",
        "    return result\n",
        "\n",
        "spec='''0 113 128 186 241 299 314 427'''.split()\n",
        "spec=[eval(i) for i in spec]\n",
        "Cyclopeptide_Sequencing_Problem(spec)\n"
      ],
      "metadata": {
        "id": "FBtQk_kpM_G4"
      },
      "execution_count": null,
      "outputs": []
    },
    {
      "cell_type": "code",
      "source": [
        "# BA5A\n",
        "\n",
        "def coinChange(coins, make):\n",
        "  res = [0] * (make + 1)\n",
        "  for i in range(1, make + 1):\n",
        "    res[i] = min(res[i - coin] + 1 for coin in coins if i >= coin)\n",
        "  return res[make]\n",
        "\n",
        "make= 40\n",
        "coins = [1,5,10,20,25,50]\n",
        "coinChange(coins, make)"
      ],
      "metadata": {
        "colab": {
          "base_uri": "https://localhost:8080/"
        },
        "id": "Ha0PayRVPIcV",
        "outputId": "758bfde7-63de-49ce-b6e8-c05833eb9006"
      },
      "execution_count": null,
      "outputs": [
        {
          "output_type": "execute_result",
          "data": {
            "text/plain": [
              "2"
            ]
          },
          "metadata": {},
          "execution_count": 180
        }
      ]
    },
    {
      "cell_type": "code",
      "source": [
        "# BA5B\n",
        "\n",
        "import numpy as np\n",
        "\n",
        "def longest_path(n, m, down_matrix, right_matrix):\n",
        "  result = [[0] * (m+1) for i in range(n+1)]\n",
        "  for i in range(1,n+1):\n",
        "    result[i][0] = result[i-1][0] + down_matrix[i-1][0]\n",
        "\n",
        "  for j in range(1,m+1):\n",
        "    result[0][j] = result[0][j-1] + right_matrix[0][j-1]\n",
        "\n",
        "  for i in range(1,n+1):\n",
        "    for j in range(1,m+1):\n",
        "      result[i][j] = max(result[i-1][j] + down_matrix[i-1][j], result[i][j-1] + right_matrix[i][j-1])\n",
        "\n",
        "  return result[n][m]\n",
        "\n",
        "n, m = 4, 4\n",
        "down_str = '''\n",
        "1 0 2 4 3\n",
        "4 6 5 2 1\n",
        "4 4 5 2 1\n",
        "5 6 8 5 3\n",
        "'''\n",
        "right_str = '''\n",
        "3 2 4 0\n",
        "3 2 4 2\n",
        "0 7 3 3\n",
        "3 3 0 2\n",
        "1 3 2 2\n",
        "'''\n",
        "down_matrix = np.fromstring(down_str, dtype=int, sep=' ', ).reshape(n, m + 1)\n",
        "right_matrix = np.fromstring(right_str, dtype=int, sep=' ', ).reshape(n + 1, m)\n",
        "\n",
        "print(longest_path(n, m, down_matrix, right_matrix))\n",
        "\n"
      ],
      "metadata": {
        "colab": {
          "base_uri": "https://localhost:8080/"
        },
        "id": "r5Qqs2RhP39Q",
        "outputId": "6f90c572-45bd-4b89-dd5f-f86a6f0f59fe"
      },
      "execution_count": null,
      "outputs": [
        {
          "output_type": "stream",
          "name": "stdout",
          "text": [
            "34\n"
          ]
        }
      ]
    }
  ]
}